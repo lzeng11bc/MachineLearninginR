{
 "cells": [
  {
   "cell_type": "code",
   "execution_count": 3,
   "metadata": {},
   "outputs": [],
   "source": [
    "import pandas as pd\n",
    "import numpy as np\n",
    "import os"
   ]
  },
  {
   "cell_type": "markdown",
   "metadata": {},
   "source": [
    "read the the file in pandas"
   ]
  },
  {
   "cell_type": "code",
   "execution_count": 11,
   "metadata": {},
   "outputs": [],
   "source": [
    "df=pd.read_csv('total_transactions_date_total.csv')"
   ]
  },
  {
   "cell_type": "code",
   "execution_count": 26,
   "metadata": {},
   "outputs": [],
   "source": [
    "df2=pd.read_csv('MLTotal.csv')"
   ]
  },
  {
   "cell_type": "code",
   "execution_count": 27,
   "metadata": {},
   "outputs": [
    {
     "data": {
      "text/html": [
       "<div>\n",
       "<style scoped>\n",
       "    .dataframe tbody tr th:only-of-type {\n",
       "        vertical-align: middle;\n",
       "    }\n",
       "\n",
       "    .dataframe tbody tr th {\n",
       "        vertical-align: top;\n",
       "    }\n",
       "\n",
       "    .dataframe thead th {\n",
       "        text-align: right;\n",
       "    }\n",
       "</style>\n",
       "<table border=\"1\" class=\"dataframe\">\n",
       "  <thead>\n",
       "    <tr style=\"text-align: right;\">\n",
       "      <th></th>\n",
       "      <th>Unnamed: 0</th>\n",
       "      <th>riskscore</th>\n",
       "      <th>opened</th>\n",
       "      <th>SCRate</th>\n",
       "      <th>TrailerRate</th>\n",
       "      <th>Price</th>\n",
       "      <th>Vol</th>\n",
       "      <th>return-N6M</th>\n",
       "      <th>return-HYG</th>\n",
       "      <th>return-IVV</th>\n",
       "      <th>AUM</th>\n",
       "      <th>Open</th>\n",
       "      <th>Gender</th>\n",
       "      <th>age</th>\n",
       "      <th>income</th>\n",
       "      <th>counts</th>\n",
       "      <th>sub</th>\n",
       "      <th>ed_Deg or abv</th>\n",
       "      <th>ed_H.Sch/Dip.</th>\n",
       "      <th>FRC</th>\n",
       "    </tr>\n",
       "  </thead>\n",
       "  <tbody>\n",
       "    <tr>\n",
       "      <th>0</th>\n",
       "      <td>0</td>\n",
       "      <td>5</td>\n",
       "      <td>0</td>\n",
       "      <td>0.03</td>\n",
       "      <td>0.0</td>\n",
       "      <td>86.980003</td>\n",
       "      <td>14187800</td>\n",
       "      <td>0.000000</td>\n",
       "      <td>0.000000</td>\n",
       "      <td>0.000000</td>\n",
       "      <td>396.172878</td>\n",
       "      <td>0</td>\n",
       "      <td>1</td>\n",
       "      <td>31</td>\n",
       "      <td>89953.079278</td>\n",
       "      <td>16.051654</td>\n",
       "      <td>0</td>\n",
       "      <td>0</td>\n",
       "      <td>1</td>\n",
       "      <td>2</td>\n",
       "    </tr>\n",
       "    <tr>\n",
       "      <th>1</th>\n",
       "      <td>1</td>\n",
       "      <td>5</td>\n",
       "      <td>0</td>\n",
       "      <td>0.03</td>\n",
       "      <td>0.0</td>\n",
       "      <td>86.300003</td>\n",
       "      <td>11351300</td>\n",
       "      <td>0.000000</td>\n",
       "      <td>0.003022</td>\n",
       "      <td>0.009479</td>\n",
       "      <td>3820.921478</td>\n",
       "      <td>1</td>\n",
       "      <td>1</td>\n",
       "      <td>33</td>\n",
       "      <td>103063.060048</td>\n",
       "      <td>55.862356</td>\n",
       "      <td>1</td>\n",
       "      <td>0</td>\n",
       "      <td>1</td>\n",
       "      <td>2</td>\n",
       "    </tr>\n",
       "    <tr>\n",
       "      <th>2</th>\n",
       "      <td>2</td>\n",
       "      <td>5</td>\n",
       "      <td>0</td>\n",
       "      <td>0.03</td>\n",
       "      <td>0.0</td>\n",
       "      <td>86.519997</td>\n",
       "      <td>20175500</td>\n",
       "      <td>-0.003604</td>\n",
       "      <td>-0.003570</td>\n",
       "      <td>-0.000223</td>\n",
       "      <td>2003.354360</td>\n",
       "      <td>1</td>\n",
       "      <td>1</td>\n",
       "      <td>42</td>\n",
       "      <td>71597.614595</td>\n",
       "      <td>34.712835</td>\n",
       "      <td>1</td>\n",
       "      <td>0</td>\n",
       "      <td>1</td>\n",
       "      <td>2</td>\n",
       "    </tr>\n",
       "    <tr>\n",
       "      <th>3</th>\n",
       "      <td>3</td>\n",
       "      <td>5</td>\n",
       "      <td>0</td>\n",
       "      <td>0.03</td>\n",
       "      <td>0.0</td>\n",
       "      <td>88.209999</td>\n",
       "      <td>31575700</td>\n",
       "      <td>0.006375</td>\n",
       "      <td>0.001817</td>\n",
       "      <td>0.000063</td>\n",
       "      <td>1657.233641</td>\n",
       "      <td>1</td>\n",
       "      <td>0</td>\n",
       "      <td>47</td>\n",
       "      <td>53341.786595</td>\n",
       "      <td>30.123950</td>\n",
       "      <td>1</td>\n",
       "      <td>0</td>\n",
       "      <td>1</td>\n",
       "      <td>2</td>\n",
       "    </tr>\n",
       "    <tr>\n",
       "      <th>4</th>\n",
       "      <td>4</td>\n",
       "      <td>5</td>\n",
       "      <td>0</td>\n",
       "      <td>0.03</td>\n",
       "      <td>0.0</td>\n",
       "      <td>87.919998</td>\n",
       "      <td>11627100</td>\n",
       "      <td>0.000000</td>\n",
       "      <td>-0.000455</td>\n",
       "      <td>-0.000185</td>\n",
       "      <td>4161.822987</td>\n",
       "      <td>1</td>\n",
       "      <td>1</td>\n",
       "      <td>46</td>\n",
       "      <td>75276.185086</td>\n",
       "      <td>58.710454</td>\n",
       "      <td>1</td>\n",
       "      <td>0</td>\n",
       "      <td>1</td>\n",
       "      <td>2</td>\n",
       "    </tr>\n",
       "  </tbody>\n",
       "</table>\n",
       "</div>"
      ],
      "text/plain": [
       "   Unnamed: 0  riskscore  opened  SCRate  TrailerRate      Price       Vol  \\\n",
       "0           0          5       0    0.03          0.0  86.980003  14187800   \n",
       "1           1          5       0    0.03          0.0  86.300003  11351300   \n",
       "2           2          5       0    0.03          0.0  86.519997  20175500   \n",
       "3           3          5       0    0.03          0.0  88.209999  31575700   \n",
       "4           4          5       0    0.03          0.0  87.919998  11627100   \n",
       "\n",
       "   return-N6M  return-HYG  return-IVV          AUM  Open  Gender  age  \\\n",
       "0    0.000000    0.000000    0.000000   396.172878     0       1   31   \n",
       "1    0.000000    0.003022    0.009479  3820.921478     1       1   33   \n",
       "2   -0.003604   -0.003570   -0.000223  2003.354360     1       1   42   \n",
       "3    0.006375    0.001817    0.000063  1657.233641     1       0   47   \n",
       "4    0.000000   -0.000455   -0.000185  4161.822987     1       1   46   \n",
       "\n",
       "          income     counts  sub  ed_Deg or abv  ed_H.Sch/Dip.  FRC  \n",
       "0   89953.079278  16.051654    0              0              1    2  \n",
       "1  103063.060048  55.862356    1              0              1    2  \n",
       "2   71597.614595  34.712835    1              0              1    2  \n",
       "3   53341.786595  30.123950    1              0              1    2  \n",
       "4   75276.185086  58.710454    1              0              1    2  "
      ]
     },
     "execution_count": 27,
     "metadata": {},
     "output_type": "execute_result"
    }
   ],
   "source": [
    "df2.head()"
   ]
  },
  {
   "cell_type": "code",
   "execution_count": 28,
   "metadata": {},
   "outputs": [
    {
     "data": {
      "text/plain": [
       "Index(['Unnamed: 0', 'riskscore', 'opened', 'SCRate', 'TrailerRate', 'Price',\n",
       "       'Vol', 'return-N6M', 'return-HYG', 'return-IVV', 'AUM', 'Open',\n",
       "       'Gender', 'age', 'income', 'counts', 'sub', 'ed_Deg or abv',\n",
       "       'ed_H.Sch/Dip.', 'FRC'],\n",
       "      dtype='object')"
      ]
     },
     "execution_count": 28,
     "metadata": {},
     "output_type": "execute_result"
    }
   ],
   "source": [
    "df2.columns"
   ]
  },
  {
   "cell_type": "code",
   "execution_count": 29,
   "metadata": {},
   "outputs": [
    {
     "data": {
      "text/plain": [
       "array([2, 1, 3])"
      ]
     },
     "execution_count": 29,
     "metadata": {},
     "output_type": "execute_result"
    }
   ],
   "source": [
    "pd.unique(df2.FRC)"
   ]
  },
  {
   "cell_type": "code",
   "execution_count": 25,
   "metadata": {},
   "outputs": [
    {
     "data": {
      "text/plain": [
       "['.Rhistory',\n",
       " 'transaction_record cleaning_revised.ipynb',\n",
       " 'MLTotal.csv',\n",
       " 'Untitled1.ipynb',\n",
       " '.DS_Store',\n",
       " 'transaction_record cleaning_revised2.ipynb',\n",
       " 'lasso.r',\n",
       " 'Txn_Record_[delta_AUM]_[2019-04-01]_[2020-04-08].csv',\n",
       " 'bestsubsetselection.r',\n",
       " 'Txn_Record_[count_AUM]_[2019-08-26]_[2020-04-01].csv',\n",
       " 'Untitled3.ipynb',\n",
       " 'Untitled.ipynb',\n",
       " 'Txn_Record_[avg_AUM]_[2019-08-26]_[2020-04-01].csv',\n",
       " 'ridge.r',\n",
       " '7daysrawdata.csv',\n",
       " 'Untitled2.ipynb',\n",
       " '7daystransaction.csv',\n",
       " 'TransactionRecord-v-return added.csv',\n",
       " 'doc1.csv',\n",
       " 'transactions7daysforanalytics.csv',\n",
       " 'Txn_Record_AUMattrn_2019-08-26_2020-04-01.csv',\n",
       " 'linear_regression.r',\n",
       " 'Txn_Record_[avg_AUM]_[2019-04-01]_[2020-04-08].csv',\n",
       " 'Txn_Record_AUMattrn_2020-03-12_2020-03-20.csv',\n",
       " 'Generatedtotal.csv',\n",
       " 'Txn_Record_avgTxnSize_2020-03-12_2020-03-20.csv',\n",
       " 'FundPxVol (1).csv',\n",
       " 'transactionstotalrangen.csv',\n",
       " 'totaltransactions[2019-08-25]-[2020-08-26].csv',\n",
       " 'totaltransactionforML.csv',\n",
       " '7daysML.csv',\n",
       " '.ipynb_checkpoints',\n",
       " 'Txn_Record_deltaAUM_2020-03-12_2020-03-20.csv',\n",
       " 'total_tran_final.csv',\n",
       " '7daysdata.csv',\n",
       " 'doc.csv',\n",
       " 'Generated7days',\n",
       " 'Txn_Record_[count_AUM]_[2019-04-01]_[2020-04-08].csv',\n",
       " 'bank-additional-full.csv',\n",
       " 'Generated7days.csv',\n",
       " 'total_transactions_date_total.csv']"
      ]
     },
     "execution_count": 25,
     "metadata": {},
     "output_type": "execute_result"
    }
   ],
   "source": [
    "os.listdir()"
   ]
  },
  {
   "cell_type": "code",
   "execution_count": 12,
   "metadata": {},
   "outputs": [
    {
     "data": {
      "text/html": [
       "<div>\n",
       "<style scoped>\n",
       "    .dataframe tbody tr th:only-of-type {\n",
       "        vertical-align: middle;\n",
       "    }\n",
       "\n",
       "    .dataframe tbody tr th {\n",
       "        vertical-align: top;\n",
       "    }\n",
       "\n",
       "    .dataframe thead th {\n",
       "        text-align: right;\n",
       "    }\n",
       "</style>\n",
       "<table border=\"1\" class=\"dataframe\">\n",
       "  <thead>\n",
       "    <tr style=\"text-align: right;\">\n",
       "      <th></th>\n",
       "      <th>Unnamed: 0</th>\n",
       "      <th>trd_date</th>\n",
       "      <th>fund_id</th>\n",
       "      <th>investor_id</th>\n",
       "      <th>education</th>\n",
       "      <th>intermediaryid</th>\n",
       "      <th>riskscore</th>\n",
       "      <th>SCRate</th>\n",
       "      <th>TrailerRate</th>\n",
       "      <th>FundRiskScore</th>\n",
       "      <th>...</th>\n",
       "      <th>return-N6M</th>\n",
       "      <th>return-HYG</th>\n",
       "      <th>return-IVV</th>\n",
       "      <th>AUM</th>\n",
       "      <th>Open</th>\n",
       "      <th>Gender</th>\n",
       "      <th>age</th>\n",
       "      <th>income</th>\n",
       "      <th>counts</th>\n",
       "      <th>sub</th>\n",
       "    </tr>\n",
       "  </thead>\n",
       "  <tbody>\n",
       "    <tr>\n",
       "      <th>0</th>\n",
       "      <td>0</td>\n",
       "      <td>2019/8/26</td>\n",
       "      <td>HYG</td>\n",
       "      <td>55887</td>\n",
       "      <td>H.Sch/Dip.</td>\n",
       "      <td>6</td>\n",
       "      <td>5</td>\n",
       "      <td>0.03</td>\n",
       "      <td>0.0</td>\n",
       "      <td>M</td>\n",
       "      <td>...</td>\n",
       "      <td>0.000000</td>\n",
       "      <td>0.000000</td>\n",
       "      <td>0.000000</td>\n",
       "      <td>396.172878</td>\n",
       "      <td>0</td>\n",
       "      <td>1</td>\n",
       "      <td>31</td>\n",
       "      <td>89953.079278</td>\n",
       "      <td>4.554758</td>\n",
       "      <td>0</td>\n",
       "    </tr>\n",
       "    <tr>\n",
       "      <th>1</th>\n",
       "      <td>1</td>\n",
       "      <td>2019/10/9</td>\n",
       "      <td>HYG</td>\n",
       "      <td>55887</td>\n",
       "      <td>H.Sch/Dip.</td>\n",
       "      <td>6</td>\n",
       "      <td>5</td>\n",
       "      <td>0.03</td>\n",
       "      <td>0.0</td>\n",
       "      <td>M</td>\n",
       "      <td>...</td>\n",
       "      <td>0.000000</td>\n",
       "      <td>0.003022</td>\n",
       "      <td>0.009479</td>\n",
       "      <td>3820.921478</td>\n",
       "      <td>1</td>\n",
       "      <td>1</td>\n",
       "      <td>33</td>\n",
       "      <td>103063.060048</td>\n",
       "      <td>44.274871</td>\n",
       "      <td>1</td>\n",
       "    </tr>\n",
       "    <tr>\n",
       "      <th>2</th>\n",
       "      <td>2</td>\n",
       "      <td>2019/11/19</td>\n",
       "      <td>HYG</td>\n",
       "      <td>55887</td>\n",
       "      <td>H.Sch/Dip.</td>\n",
       "      <td>6</td>\n",
       "      <td>5</td>\n",
       "      <td>0.03</td>\n",
       "      <td>0.0</td>\n",
       "      <td>M</td>\n",
       "      <td>...</td>\n",
       "      <td>-0.003604</td>\n",
       "      <td>-0.003570</td>\n",
       "      <td>-0.000223</td>\n",
       "      <td>2003.354360</td>\n",
       "      <td>1</td>\n",
       "      <td>1</td>\n",
       "      <td>42</td>\n",
       "      <td>71597.614595</td>\n",
       "      <td>23.154813</td>\n",
       "      <td>1</td>\n",
       "    </tr>\n",
       "    <tr>\n",
       "      <th>3</th>\n",
       "      <td>3</td>\n",
       "      <td>2019/12/18</td>\n",
       "      <td>HYG</td>\n",
       "      <td>55887</td>\n",
       "      <td>H.Sch/Dip.</td>\n",
       "      <td>6</td>\n",
       "      <td>5</td>\n",
       "      <td>0.03</td>\n",
       "      <td>0.0</td>\n",
       "      <td>M</td>\n",
       "      <td>...</td>\n",
       "      <td>0.006375</td>\n",
       "      <td>0.001817</td>\n",
       "      <td>0.000063</td>\n",
       "      <td>1657.233641</td>\n",
       "      <td>1</td>\n",
       "      <td>0</td>\n",
       "      <td>47</td>\n",
       "      <td>53341.786595</td>\n",
       "      <td>18.787367</td>\n",
       "      <td>1</td>\n",
       "    </tr>\n",
       "    <tr>\n",
       "      <th>4</th>\n",
       "      <td>4</td>\n",
       "      <td>2019/12/27</td>\n",
       "      <td>HYG</td>\n",
       "      <td>55887</td>\n",
       "      <td>H.Sch/Dip.</td>\n",
       "      <td>6</td>\n",
       "      <td>5</td>\n",
       "      <td>0.03</td>\n",
       "      <td>0.0</td>\n",
       "      <td>M</td>\n",
       "      <td>...</td>\n",
       "      <td>0.000000</td>\n",
       "      <td>-0.000455</td>\n",
       "      <td>-0.000185</td>\n",
       "      <td>4161.822987</td>\n",
       "      <td>1</td>\n",
       "      <td>1</td>\n",
       "      <td>46</td>\n",
       "      <td>75276.185086</td>\n",
       "      <td>47.336477</td>\n",
       "      <td>1</td>\n",
       "    </tr>\n",
       "  </tbody>\n",
       "</table>\n",
       "<p>5 rows × 23 columns</p>\n",
       "</div>"
      ],
      "text/plain": [
       "   Unnamed: 0    trd_date fund_id  investor_id   education  intermediaryid  \\\n",
       "0           0   2019/8/26     HYG        55887  H.Sch/Dip.               6   \n",
       "1           1   2019/10/9     HYG        55887  H.Sch/Dip.               6   \n",
       "2           2  2019/11/19     HYG        55887  H.Sch/Dip.               6   \n",
       "3           3  2019/12/18     HYG        55887  H.Sch/Dip.               6   \n",
       "4           4  2019/12/27     HYG        55887  H.Sch/Dip.               6   \n",
       "\n",
       "   riskscore  SCRate  TrailerRate FundRiskScore  ... return-N6M  return-HYG  \\\n",
       "0          5    0.03          0.0             M  ...   0.000000    0.000000   \n",
       "1          5    0.03          0.0             M  ...   0.000000    0.003022   \n",
       "2          5    0.03          0.0             M  ...  -0.003604   -0.003570   \n",
       "3          5    0.03          0.0             M  ...   0.006375    0.001817   \n",
       "4          5    0.03          0.0             M  ...   0.000000   -0.000455   \n",
       "\n",
       "   return-IVV          AUM  Open  Gender  age         income     counts  sub  \n",
       "0    0.000000   396.172878     0       1   31   89953.079278   4.554758    0  \n",
       "1    0.009479  3820.921478     1       1   33  103063.060048  44.274871    1  \n",
       "2   -0.000223  2003.354360     1       1   42   71597.614595  23.154813    1  \n",
       "3    0.000063  1657.233641     1       0   47   53341.786595  18.787367    1  \n",
       "4   -0.000185  4161.822987     1       1   46   75276.185086  47.336477    1  \n",
       "\n",
       "[5 rows x 23 columns]"
      ]
     },
     "execution_count": 12,
     "metadata": {},
     "output_type": "execute_result"
    }
   ],
   "source": [
    "df.head()"
   ]
  },
  {
   "cell_type": "markdown",
   "metadata": {},
   "source": [
    "delete the unncessary columns"
   ]
  },
  {
   "cell_type": "code",
   "execution_count": 13,
   "metadata": {},
   "outputs": [
    {
     "data": {
      "text/plain": [
       "Index(['Unnamed: 0', 'trd_date', 'fund_id', 'investor_id', 'education',\n",
       "       'intermediaryid', 'riskscore', 'SCRate', 'TrailerRate', 'FundRiskScore',\n",
       "       'FundName', 'Price', 'Vol', 'return-N6M', 'return-HYG', 'return-IVV',\n",
       "       'AUM', 'Open', 'Gender', 'age', 'income', 'counts', 'sub'],\n",
       "      dtype='object')"
      ]
     },
     "execution_count": 13,
     "metadata": {},
     "output_type": "execute_result"
    }
   ],
   "source": [
    "df.columns"
   ]
  },
  {
   "cell_type": "code",
   "execution_count": 14,
   "metadata": {},
   "outputs": [],
   "source": [
    "del df['Unnamed: 0']"
   ]
  },
  {
   "cell_type": "code",
   "execution_count": 15,
   "metadata": {},
   "outputs": [],
   "source": [
    "def gencon(x):\n",
    "    if x==0:\n",
    "        return \"F\"\n",
    "    if x==1:\n",
    "        return 'M'"
   ]
  },
  {
   "cell_type": "code",
   "execution_count": 17,
   "metadata": {},
   "outputs": [],
   "source": [
    "df['Gender']=df['Gender'].apply(gencon)"
   ]
  },
  {
   "cell_type": "code",
   "execution_count": 19,
   "metadata": {},
   "outputs": [
    {
     "name": "stdout",
     "output_type": "stream",
     "text": [
      "<class 'pandas.core.frame.DataFrame'>\n",
      "RangeIndex: 16004 entries, 0 to 16003\n",
      "Data columns (total 22 columns):\n",
      " #   Column          Non-Null Count  Dtype  \n",
      "---  ------          --------------  -----  \n",
      " 0   trd_date        16004 non-null  object \n",
      " 1   fund_id         16004 non-null  object \n",
      " 2   investor_id     16004 non-null  int64  \n",
      " 3   education       16004 non-null  object \n",
      " 4   intermediaryid  16004 non-null  int64  \n",
      " 5   riskscore       16004 non-null  int64  \n",
      " 6   SCRate          16004 non-null  float64\n",
      " 7   TrailerRate     16004 non-null  float64\n",
      " 8   FundRiskScore   16004 non-null  object \n",
      " 9   FundName        16004 non-null  object \n",
      " 10  Price           16004 non-null  float64\n",
      " 11  Vol             16004 non-null  int64  \n",
      " 12  return-N6M      16004 non-null  float64\n",
      " 13  return-HYG      16004 non-null  float64\n",
      " 14  return-IVV      16004 non-null  float64\n",
      " 15  AUM             16004 non-null  float64\n",
      " 16  Open            16004 non-null  int64  \n",
      " 17  Gender          16004 non-null  object \n",
      " 18  age             16004 non-null  int64  \n",
      " 19  income          16004 non-null  float64\n",
      " 20  counts          16004 non-null  float64\n",
      " 21  sub             16004 non-null  int64  \n",
      "dtypes: float64(9), int64(7), object(6)\n",
      "memory usage: 2.7+ MB\n"
     ]
    }
   ],
   "source": [
    "df.info()"
   ]
  },
  {
   "cell_type": "code",
   "execution_count": 20,
   "metadata": {},
   "outputs": [],
   "source": [
    "def zeronecon(x):\n",
    "    if x==0:\n",
    "        return \"N\"\n",
    "    if x==1:\n",
    "        return \"Y\""
   ]
  },
  {
   "cell_type": "code",
   "execution_count": 22,
   "metadata": {},
   "outputs": [],
   "source": [
    "df['Open']=df['Open'].apply(zeronecon)"
   ]
  },
  {
   "cell_type": "code",
   "execution_count": 23,
   "metadata": {},
   "outputs": [],
   "source": [
    "df['sub']=df['sub'].apply(zeronecon)"
   ]
  },
  {
   "cell_type": "code",
   "execution_count": null,
   "metadata": {},
   "outputs": [],
   "source": []
  },
  {
   "cell_type": "code",
   "execution_count": null,
   "metadata": {},
   "outputs": [],
   "source": []
  },
  {
   "cell_type": "code",
   "execution_count": null,
   "metadata": {},
   "outputs": [],
   "source": []
  },
  {
   "cell_type": "code",
   "execution_count": null,
   "metadata": {},
   "outputs": [],
   "source": []
  },
  {
   "cell_type": "code",
   "execution_count": null,
   "metadata": {},
   "outputs": [],
   "source": []
  },
  {
   "cell_type": "code",
   "execution_count": null,
   "metadata": {},
   "outputs": [],
   "source": []
  },
  {
   "cell_type": "code",
   "execution_count": null,
   "metadata": {},
   "outputs": [],
   "source": []
  },
  {
   "cell_type": "code",
   "execution_count": null,
   "metadata": {},
   "outputs": [],
   "source": []
  },
  {
   "cell_type": "code",
   "execution_count": null,
   "metadata": {},
   "outputs": [],
   "source": []
  },
  {
   "cell_type": "code",
   "execution_count": null,
   "metadata": {},
   "outputs": [],
   "source": []
  },
  {
   "cell_type": "code",
   "execution_count": null,
   "metadata": {},
   "outputs": [],
   "source": []
  },
  {
   "cell_type": "code",
   "execution_count": null,
   "metadata": {},
   "outputs": [],
   "source": []
  },
  {
   "cell_type": "code",
   "execution_count": null,
   "metadata": {},
   "outputs": [],
   "source": []
  },
  {
   "cell_type": "code",
   "execution_count": null,
   "metadata": {},
   "outputs": [],
   "source": []
  },
  {
   "cell_type": "code",
   "execution_count": null,
   "metadata": {},
   "outputs": [],
   "source": []
  },
  {
   "cell_type": "code",
   "execution_count": null,
   "metadata": {},
   "outputs": [],
   "source": []
  },
  {
   "cell_type": "code",
   "execution_count": null,
   "metadata": {},
   "outputs": [],
   "source": []
  },
  {
   "cell_type": "code",
   "execution_count": null,
   "metadata": {},
   "outputs": [],
   "source": []
  },
  {
   "cell_type": "code",
   "execution_count": null,
   "metadata": {},
   "outputs": [],
   "source": []
  },
  {
   "cell_type": "code",
   "execution_count": null,
   "metadata": {},
   "outputs": [],
   "source": []
  },
  {
   "cell_type": "code",
   "execution_count": null,
   "metadata": {},
   "outputs": [],
   "source": []
  },
  {
   "cell_type": "code",
   "execution_count": null,
   "metadata": {},
   "outputs": [],
   "source": []
  },
  {
   "cell_type": "code",
   "execution_count": null,
   "metadata": {},
   "outputs": [],
   "source": []
  },
  {
   "cell_type": "code",
   "execution_count": null,
   "metadata": {},
   "outputs": [],
   "source": []
  },
  {
   "cell_type": "code",
   "execution_count": null,
   "metadata": {},
   "outputs": [],
   "source": []
  },
  {
   "cell_type": "code",
   "execution_count": null,
   "metadata": {},
   "outputs": [],
   "source": []
  },
  {
   "cell_type": "code",
   "execution_count": null,
   "metadata": {},
   "outputs": [],
   "source": []
  },
  {
   "cell_type": "code",
   "execution_count": null,
   "metadata": {},
   "outputs": [],
   "source": []
  },
  {
   "cell_type": "code",
   "execution_count": null,
   "metadata": {},
   "outputs": [],
   "source": []
  }
 ],
 "metadata": {
  "kernelspec": {
   "display_name": "Python 3.8.3 64-bit",
   "language": "python",
   "name": "python38364bit719a10165d2e45edb91e9b20e26e67b0"
  },
  "language_info": {
   "codemirror_mode": {
    "name": "ipython",
    "version": 3
   },
   "file_extension": ".py",
   "mimetype": "text/x-python",
   "name": "python",
   "nbconvert_exporter": "python",
   "pygments_lexer": "ipython3",
   "version": "3.8.3"
  }
 },
 "nbformat": 4,
 "nbformat_minor": 4
}
