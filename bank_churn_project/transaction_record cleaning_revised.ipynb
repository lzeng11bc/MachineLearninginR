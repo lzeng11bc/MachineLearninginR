{
 "cells": [
  {
   "cell_type": "code",
   "execution_count": 308,
   "metadata": {
    "colab": {},
    "colab_type": "code",
    "executionInfo": {
     "elapsed": 1685,
     "status": "ok",
     "timestamp": 1600248690537,
     "user": {
      "displayName": "Trafalgar Law",
      "photoUrl": "",
      "userId": "07505374984179426558"
     },
     "user_tz": -480
    },
    "id": "GUkGmi2zGVdu"
   },
   "outputs": [],
   "source": [
    "import pandas as pd\n",
    "import numpy as np\n",
    "import matplotlib.pyplot as plt"
   ]
  },
  {
   "cell_type": "code",
   "execution_count": 426,
   "metadata": {
    "colab": {},
    "colab_type": "code",
    "executionInfo": {
     "elapsed": 1582,
     "status": "ok",
     "timestamp": 1600248695277,
     "user": {
      "displayName": "Trafalgar Law",
      "photoUrl": "",
      "userId": "07505374984179426558"
     },
     "user_tz": -480
    },
    "id": "B5KC6NLkGVdz"
   },
   "outputs": [],
   "source": [
    "df=pd.read_csv('TransactionRecord-v-return added.csv')"
   ]
  },
  {
   "cell_type": "markdown",
   "metadata": {
    "colab_type": "text",
    "id": "gkArQz8oGVd-"
   },
   "source": [
    "**Filtering Out Missing Data**"
   ]
  },
  {
   "cell_type": "code",
   "execution_count": 427,
   "metadata": {
    "colab": {},
    "colab_type": "code",
    "executionInfo": {
     "elapsed": 811,
     "status": "ok",
     "timestamp": 1600248820431,
     "user": {
      "displayName": "Trafalgar Law",
      "photoUrl": "",
      "userId": "07505374984179426558"
     },
     "user_tz": -480
    },
    "id": "PrE2KXNRGVd-"
   },
   "outputs": [],
   "source": [
    "df=df.dropna()"
   ]
  },
  {
   "cell_type": "markdown",
   "metadata": {
    "colab_type": "text",
    "id": "112dH6rQGVeH"
   },
   "source": [
    "**Checking Duplicates**"
   ]
  },
  {
   "cell_type": "code",
   "execution_count": 429,
   "metadata": {
    "colab": {
     "base_uri": "https://localhost:8080/",
     "height": 34
    },
    "colab_type": "code",
    "executionInfo": {
     "elapsed": 933,
     "status": "ok",
     "timestamp": 1600248858673,
     "user": {
      "displayName": "Trafalgar Law",
      "photoUrl": "",
      "userId": "07505374984179426558"
     },
     "user_tz": -480
    },
    "id": "IsZg6xItGVeI",
    "outputId": "b7346ab7-419c-419d-c324-3e0c7dfdfc41"
   },
   "outputs": [
    {
     "data": {
      "text/plain": [
       "0"
      ]
     },
     "execution_count": 429,
     "metadata": {},
     "output_type": "execute_result"
    }
   ],
   "source": [
    "sum(df.duplicated())#no duplicates found"
   ]
  },
  {
   "cell_type": "markdown",
   "metadata": {
    "colab_type": "text",
    "id": "e8ezJYPUGVeL"
   },
   "source": [
    "**Rename the columns(for ease of manipulation)**"
   ]
  },
  {
   "cell_type": "code",
   "execution_count": 430,
   "metadata": {
    "colab": {},
    "colab_type": "code",
    "executionInfo": {
     "elapsed": 966,
     "status": "ok",
     "timestamp": 1600248882041,
     "user": {
      "displayName": "Trafalgar Law",
      "photoUrl": "",
      "userId": "07505374984179426558"
     },
     "user_tz": -480
    },
    "id": "gGm9BtT9GVeM"
   },
   "outputs": [],
   "source": [
    "df=df.rename(columns={'trd_date':'Date','fund_id':'FID1',\n",
    "                  'unit_count':'Units','gender':'Gender',\n",
    "                  'TrailerRate':'TRate','FundRiskScore':'FRSC','FundName':'FName'})"
   ]
  },
  {
   "cell_type": "markdown",
   "metadata": {
    "colab_type": "text",
    "id": "stPEEn4JGVeP"
   },
   "source": [
    "**Drop Unnecessary Columns**"
   ]
  },
  {
   "cell_type": "code",
   "execution_count": 431,
   "metadata": {
    "colab": {},
    "colab_type": "code",
    "executionInfo": {
     "elapsed": 1128,
     "status": "ok",
     "timestamp": 1600248890642,
     "user": {
      "displayName": "Trafalgar Law",
      "photoUrl": "",
      "userId": "07505374984179426558"
     },
     "user_tz": -480
    },
    "id": "4QtpsuYRGVeP"
   },
   "outputs": [],
   "source": [
    "del df['FName']"
   ]
  },
  {
   "cell_type": "code",
   "execution_count": 432,
   "metadata": {
    "colab": {},
    "colab_type": "code",
    "executionInfo": {
     "elapsed": 983,
     "status": "ok",
     "timestamp": 1600248901193,
     "user": {
      "displayName": "Trafalgar Law",
      "photoUrl": "",
      "userId": "07505374984179426558"
     },
     "user_tz": -480
    },
    "id": "M67hwQMeGVeT"
   },
   "outputs": [],
   "source": [
    "del df['intermediaryid']"
   ]
  },
  {
   "cell_type": "code",
   "execution_count": 433,
   "metadata": {
    "colab": {
     "base_uri": "https://localhost:8080/",
     "height": 85
    },
    "colab_type": "code",
    "executionInfo": {
     "elapsed": 829,
     "status": "ok",
     "timestamp": 1600248906644,
     "user": {
      "displayName": "Trafalgar Law",
      "photoUrl": "",
      "userId": "07505374984179426558"
     },
     "user_tz": -480
    },
    "id": "asaSlW68GVeX",
    "outputId": "30d8f822-42b8-43b6-b9f0-84487ee032c0"
   },
   "outputs": [
    {
     "data": {
      "text/plain": [
       "Index(['Unnamed: 0', 'Date', 'FID1', 'investor_id', 'Units', 'Gender',\n",
       "       'income', 'education', 'riskscore', 'subscribed', 'opened', 'SCRate',\n",
       "       'TRate', 'FRSC', 'Price', 'return-N6M', 'return-HYG', 'return-IVV'],\n",
       "      dtype='object')"
      ]
     },
     "execution_count": 433,
     "metadata": {},
     "output_type": "execute_result"
    }
   ],
   "source": [
    "df.columns"
   ]
  },
  {
   "cell_type": "markdown",
   "metadata": {
    "colab_type": "text",
    "id": "pKnkOtHEGVea"
   },
   "source": [
    "**Create a separate table, create dummy variables for Fund Type**"
   ]
  },
  {
   "cell_type": "code",
   "execution_count": 434,
   "metadata": {
    "colab": {},
    "colab_type": "code",
    "executionInfo": {
     "elapsed": 833,
     "status": "ok",
     "timestamp": 1600248938247,
     "user": {
      "displayName": "Trafalgar Law",
      "photoUrl": "",
      "userId": "07505374984179426558"
     },
     "user_tz": -480
    },
    "id": "srLZk9pVGVeb"
   },
   "outputs": [],
   "source": [
    "dummies_F1D1=pd.get_dummies(df['FID1'],prefix='FID1')"
   ]
  },
  {
   "cell_type": "code",
   "execution_count": 435,
   "metadata": {
    "colab": {},
    "colab_type": "code",
    "executionInfo": {
     "elapsed": 794,
     "status": "ok",
     "timestamp": 1600248970370,
     "user": {
      "displayName": "Trafalgar Law",
      "photoUrl": "",
      "userId": "07505374984179426558"
     },
     "user_tz": -480
    },
    "id": "UokVocA5GVed"
   },
   "outputs": [],
   "source": [
    "df=df.join(dummies_F1D1)"
   ]
  },
  {
   "cell_type": "markdown",
   "metadata": {
    "colab_type": "text",
    "id": "ywLBHlzMRaLW"
   },
   "source": [
    "Due to the impending \"group-by\" operation, rename the FID1_xxx columns as \"xxx_txn_cnt\"."
   ]
  },
  {
   "cell_type": "code",
   "execution_count": 436,
   "metadata": {
    "colab": {},
    "colab_type": "code",
    "executionInfo": {
     "elapsed": 826,
     "status": "ok",
     "timestamp": 1600249138148,
     "user": {
      "displayName": "Trafalgar Law",
      "photoUrl": "",
      "userId": "07505374984179426558"
     },
     "user_tz": -480
    },
    "id": "z4KmjObkRZFq"
   },
   "outputs": [],
   "source": [
    "df=df.rename(columns={'FID1_HYG':'HYG_txn_cnt', 'FID1_IVV':'IVV_txn_cnt', 'FID1_N6M':'N6M_txn_cnt'})"
   ]
  },
  {
   "cell_type": "code",
   "execution_count": 437,
   "metadata": {
    "colab": {
     "base_uri": "https://localhost:8080/",
     "height": 102
    },
    "colab_type": "code",
    "executionInfo": {
     "elapsed": 930,
     "status": "ok",
     "timestamp": 1600249141119,
     "user": {
      "displayName": "Trafalgar Law",
      "photoUrl": "",
      "userId": "07505374984179426558"
     },
     "user_tz": -480
    },
    "id": "Yxwo0TysGVeg",
    "outputId": "40853e8a-019d-4bce-de24-16bf63668d82"
   },
   "outputs": [
    {
     "data": {
      "text/plain": [
       "Index(['Unnamed: 0', 'Date', 'FID1', 'investor_id', 'Units', 'Gender',\n",
       "       'income', 'education', 'riskscore', 'subscribed', 'opened', 'SCRate',\n",
       "       'TRate', 'FRSC', 'Price', 'return-N6M', 'return-HYG', 'return-IVV',\n",
       "       'HYG_txn_cnt', 'IVV_txn_cnt', 'N6M_txn_cnt'],\n",
       "      dtype='object')"
      ]
     },
     "execution_count": 437,
     "metadata": {},
     "output_type": "execute_result"
    }
   ],
   "source": [
    "df.columns"
   ]
  },
  {
   "cell_type": "markdown",
   "metadata": {
    "colab_type": "text",
    "id": "DnAg6sX2SMid"
   },
   "source": [
    "**Create additional field for transaction value, drop entries with 0 transaction value.**"
   ]
  },
  {
   "cell_type": "code",
   "execution_count": 438,
   "metadata": {
    "colab": {},
    "colab_type": "code",
    "executionInfo": {
     "elapsed": 948,
     "status": "ok",
     "timestamp": 1600249451595,
     "user": {
      "displayName": "Trafalgar Law",
      "photoUrl": "",
      "userId": "07505374984179426558"
     },
     "user_tz": -480
    },
    "id": "1_A9M81MSWbw"
   },
   "outputs": [],
   "source": [
    "df['Txn_Val']=df['Units']*df['Price']"
   ]
  },
  {
   "cell_type": "code",
   "execution_count": 325,
   "metadata": {
    "colab": {},
    "colab_type": "code",
    "executionInfo": {
     "elapsed": 883,
     "status": "ok",
     "timestamp": 1600249614314,
     "user": {
      "displayName": "Trafalgar Law",
      "photoUrl": "",
      "userId": "07505374984179426558"
     },
     "user_tz": -480
    },
    "id": "UOA43y1fTIEw"
   },
   "outputs": [],
   "source": [
    "df = df[df['Txn_Val'] != 0]"
   ]
  },
  {
   "cell_type": "markdown",
   "metadata": {
    "colab_type": "text",
    "id": "kfi0YdGgkcGx"
   },
   "source": [
    "**Convert FundRiskScore to numeric**"
   ]
  },
  {
   "cell_type": "markdown",
   "metadata": {
    "colab_type": "text",
    "id": "UrbASUickpGt"
   },
   "source": [
    "[Note: This is a shortcut in preparation for the grouping step.  Implicit assumption is that response is linear as we move from L to M to H.]"
   ]
  },
  {
   "cell_type": "code",
   "execution_count": 440,
   "metadata": {},
   "outputs": [
    {
     "name": "stderr",
     "output_type": "stream",
     "text": [
      "<ipython-input-440-cb1466e17708>:1: SettingWithCopyWarning: \n",
      "A value is trying to be set on a copy of a slice from a DataFrame\n",
      "\n",
      "See the caveats in the documentation: https://pandas.pydata.org/pandas-docs/stable/user_guide/indexing.html#returning-a-view-versus-a-copy\n",
      "  df.FRSC[df['FRSC']=='H']=3\n"
     ]
    }
   ],
   "source": [
    "df.FRSC[df['FRSC']=='H']=3"
   ]
  },
  {
   "cell_type": "code",
   "execution_count": 441,
   "metadata": {},
   "outputs": [
    {
     "name": "stderr",
     "output_type": "stream",
     "text": [
      "<ipython-input-441-2f775214fe4d>:1: SettingWithCopyWarning: \n",
      "A value is trying to be set on a copy of a slice from a DataFrame\n",
      "\n",
      "See the caveats in the documentation: https://pandas.pydata.org/pandas-docs/stable/user_guide/indexing.html#returning-a-view-versus-a-copy\n",
      "  df.FRSC[df['FRSC']=='M']=2\n"
     ]
    }
   ],
   "source": [
    "df.FRSC[df['FRSC']=='M']=2"
   ]
  },
  {
   "cell_type": "code",
   "execution_count": 442,
   "metadata": {},
   "outputs": [
    {
     "name": "stderr",
     "output_type": "stream",
     "text": [
      "<ipython-input-442-d3129b2134f4>:1: SettingWithCopyWarning: \n",
      "A value is trying to be set on a copy of a slice from a DataFrame\n",
      "\n",
      "See the caveats in the documentation: https://pandas.pydata.org/pandas-docs/stable/user_guide/indexing.html#returning-a-view-versus-a-copy\n",
      "  df.FRSC[df['FRSC']=='L']=1\n"
     ]
    }
   ],
   "source": [
    "df.FRSC[df['FRSC']=='L']=1"
   ]
  },
  {
   "cell_type": "markdown",
   "metadata": {
    "colab_type": "text",
    "id": "Fjn7MwVUkmTb"
   },
   "source": [
    "[Pseudo code] Convert FRSC from L/M/H to numerics 1/2/3."
   ]
  },
  {
   "cell_type": "markdown",
   "metadata": {
    "colab_type": "text",
    "id": "UDJ-Rcr9aT5n"
   },
   "source": [
    "**Create additional fields about date range, overall return, and return volatility.**"
   ]
  },
  {
   "cell_type": "markdown",
   "metadata": {
    "colab_type": "text",
    "id": "SDpZ9aDFcQ9r"
   },
   "source": [
    "[Issue] \n",
    "On a deeper thought, to mimic the actual investor thought process, it may require a regression to a time series model if we want to get better fit.  In that mode, the investment return at the date when an actual transaction has occured (which Duan Ke inserted on Wed) is meaningful.  However, this may be too complex given the time constraints we have.  So I am thinking if there is a workaround without giving up too much predictive power."
   ]
  },
  {
   "cell_type": "markdown",
   "metadata": {
    "colab_type": "text",
    "id": "8c61f9LqamHF"
   },
   "source": [
    "[Pseudo code:]"
   ]
  },
  {
   "cell_type": "markdown",
   "metadata": {
    "colab_type": "text",
    "id": "2M9KkTTAa1Y6"
   },
   "source": [
    "- Count the unique number of trd_date in the data frame\n",
    "- Observe the max and min value of trd_data in the data frame\n",
    "- Open up the FundPxVol.csv file and read into a temporary data frame.\n",
    "- Using that information:\n",
    "  - Calculate 3 values - N6M_rtn, HYG_rtn, IVV_rtn - as [( Price @ max_date / Price @ min date) - 1] for each of the 3 funds.\n",
    "  - Calculate 3 values - N6M_vol, HYG_vol, IVV_vol - as sd(Return) between the max_date and min_date for each of the 3 funds."
   ]
  },
  {
   "cell_type": "code",
   "execution_count": 444,
   "metadata": {},
   "outputs": [],
   "source": [
    "df['DATE']=pd.to_datetime(df.Date)"
   ]
  },
  {
   "cell_type": "code",
   "execution_count": 446,
   "metadata": {},
   "outputs": [],
   "source": [
    "df.index=df['DATE']"
   ]
  },
  {
   "cell_type": "code",
   "execution_count": 447,
   "metadata": {},
   "outputs": [],
   "source": [
    "df_funds=pd.read_csv('FundPxVol (1).csv',date_parser=True)"
   ]
  },
  {
   "cell_type": "code",
   "execution_count": 448,
   "metadata": {},
   "outputs": [],
   "source": [
    "df_funds.index=pd.to_datetime(df_funds.TradeDate)"
   ]
  },
  {
   "cell_type": "code",
   "execution_count": 450,
   "metadata": {},
   "outputs": [],
   "source": [
    "df_HYG=df_funds['2019-08-26':'2020-06-04']"
   ]
  },
  {
   "cell_type": "code",
   "execution_count": 451,
   "metadata": {},
   "outputs": [],
   "source": [
    "vol_HYG=np.std(df_HYG[df_HYG.FundID=='HYG'].Price)"
   ]
  },
  {
   "cell_type": "code",
   "execution_count": 452,
   "metadata": {},
   "outputs": [],
   "source": [
    "df_N6M=df_funds['2019-08-26':'2020-04-28']"
   ]
  },
  {
   "cell_type": "code",
   "execution_count": 453,
   "metadata": {},
   "outputs": [],
   "source": [
    "vol_N6M=np.std(df_N6M[df_N6M.FundID=='N6M'].Price)"
   ]
  },
  {
   "cell_type": "code",
   "execution_count": 454,
   "metadata": {},
   "outputs": [],
   "source": [
    "df_IVV=df_funds['2019-08-26':'2020-07-27']"
   ]
  },
  {
   "cell_type": "code",
   "execution_count": 455,
   "metadata": {},
   "outputs": [],
   "source": [
    "vol_IVV=np.std(df_IVV[df_IVV.FundID=='IVV'].Price)"
   ]
  },
  {
   "cell_type": "code",
   "execution_count": 456,
   "metadata": {},
   "outputs": [],
   "source": [
    "N6M_rtn=11.33/11.14"
   ]
  },
  {
   "cell_type": "code",
   "execution_count": 457,
   "metadata": {},
   "outputs": [],
   "source": [
    "HYG_rtn=83.669998/86.980003"
   ]
  },
  {
   "cell_type": "code",
   "execution_count": 458,
   "metadata": {},
   "outputs": [],
   "source": [
    "IVV_rtn=324.500000/289.660004"
   ]
  },
  {
   "cell_type": "code",
   "execution_count": 459,
   "metadata": {},
   "outputs": [
    {
     "data": {
      "text/plain": [
       "Index(['Unnamed: 0', 'Date', 'FID1', 'investor_id', 'Units', 'Gender',\n",
       "       'income', 'education', 'riskscore', 'subscribed', 'opened', 'SCRate',\n",
       "       'TRate', 'FRSC', 'Price', 'return-N6M', 'return-HYG', 'return-IVV',\n",
       "       'HYG_txn_cnt', 'IVV_txn_cnt', 'N6M_txn_cnt', 'Txn_Val', 'DATE'],\n",
       "      dtype='object')"
      ]
     },
     "execution_count": 459,
     "metadata": {},
     "output_type": "execute_result"
    }
   ],
   "source": [
    "df.columns"
   ]
  },
  {
   "cell_type": "code",
   "execution_count": 460,
   "metadata": {},
   "outputs": [],
   "source": [
    "df['rtn-N6M']=N6M_rtn"
   ]
  },
  {
   "cell_type": "code",
   "execution_count": 461,
   "metadata": {},
   "outputs": [],
   "source": [
    "df['rtn-HYG']=HYG_rtn"
   ]
  },
  {
   "cell_type": "code",
   "execution_count": 462,
   "metadata": {},
   "outputs": [],
   "source": [
    "df['rtn-IVV']=IVV_rtn"
   ]
  },
  {
   "cell_type": "code",
   "execution_count": 463,
   "metadata": {},
   "outputs": [],
   "source": [
    "df['vol_N6M']=vol_N6M"
   ]
  },
  {
   "cell_type": "code",
   "execution_count": 464,
   "metadata": {},
   "outputs": [],
   "source": [
    "df['vol_HYG']=vol_HYG"
   ]
  },
  {
   "cell_type": "code",
   "execution_count": 465,
   "metadata": {},
   "outputs": [],
   "source": [
    "df['vol_IVV']=vol_IVV"
   ]
  },
  {
   "cell_type": "code",
   "execution_count": 466,
   "metadata": {},
   "outputs": [
    {
     "data": {
      "text/plain": [
       "Index(['Unnamed: 0', 'Date', 'FID1', 'investor_id', 'Units', 'Gender',\n",
       "       'income', 'education', 'riskscore', 'subscribed', 'opened', 'SCRate',\n",
       "       'TRate', 'FRSC', 'Price', 'return-N6M', 'return-HYG', 'return-IVV',\n",
       "       'HYG_txn_cnt', 'IVV_txn_cnt', 'N6M_txn_cnt', 'Txn_Val', 'DATE',\n",
       "       'rtn-N6M', 'rtn-HYG', 'rtn-IVV', 'vol_N6M', 'vol_HYG', 'vol_IVV'],\n",
       "      dtype='object')"
      ]
     },
     "execution_count": 466,
     "metadata": {},
     "output_type": "execute_result"
    }
   ],
   "source": [
    "df.columns"
   ]
  },
  {
   "cell_type": "markdown",
   "metadata": {
    "colab_type": "text",
    "id": "6slfHK6agNE0"
   },
   "source": [
    "**Developing the response variables**"
   ]
  },
  {
   "cell_type": "markdown",
   "metadata": {
    "colab_type": "text",
    "id": "rmw470begaqE"
   },
   "source": [
    "[Note] Different response variables (AUM per investor, AUM per transaction per investor, transaction frequency per investor, etc) will require a different grouping approach."
   ]
  },
  {
   "cell_type": "markdown",
   "metadata": {
    "colab_type": "text",
    "id": "llpA44RdxPM3"
   },
   "source": [
    "[Note 2] The codes for each response variable can be run separately. "
   ]
  },
  {
   "cell_type": "markdown",
   "metadata": {
    "colab_type": "text",
    "id": "Tg-J3q5HhqxX"
   },
   "source": [
    "[Note 3] Refer to the business question that we are trying to answer via visualization.  Currently, these data cleaning script are using the full data set. That is good for business question #2 when we are trying to say, within the date range chosen by the user, how much of the variance in the response variable can be explained by the different Xs.  However, for the forecast question (biz question #4 in the slides), if we want to test on unseen data, then then \"training set\" (which will get further split between train vs validation during cross-validation) may need to cut of at an earlier date.  Would be useful, somewhere at the start of this script, to put in two input parameters for us to set the date range we want to run this data cleaning script for."
   ]
  },
  {
   "cell_type": "markdown",
   "metadata": {
    "colab_type": "text",
    "id": "MYaqO1GihQTJ"
   },
   "source": [
    "**Response variable 1) Change in AUM per investor**"
   ]
  },
  {
   "cell_type": "markdown",
   "metadata": {
    "colab_type": "text",
    "id": "z5SKgFoFUZrz"
   },
   "source": [
    "**Apply \"Groupby\" based on investor_id**"
   ]
  },
  {
   "cell_type": "code",
   "execution_count": 467,
   "metadata": {
    "colab": {},
    "colab_type": "code",
    "id": "Ck0ixgpnGVej"
   },
   "outputs": [],
   "source": [
    "keys=[df['investor_id']]"
   ]
  },
  {
   "cell_type": "markdown",
   "metadata": {
    "colab_type": "text",
    "id": "V_lnb9EepFNw"
   },
   "source": [
    "[Note:] Since we are dealing with change in AUM, any transactions related to 2019/8/25 should be excluded from grouping."
   ]
  },
  {
   "cell_type": "code",
   "execution_count": 469,
   "metadata": {
    "colab": {},
    "colab_type": "code",
    "id": "52zneamsGVel"
   },
   "outputs": [],
   "source": [
    "grouped=df[df.Date != '2019-8-25'].groupby(keys)"
   ]
  },
  {
   "cell_type": "code",
   "execution_count": 470,
   "metadata": {
    "colab": {},
    "colab_type": "code",
    "id": "T__cR-GjGVeo"
   },
   "outputs": [],
   "source": [
    "df_aggTxnval=(grouped.sum()).iloc[:,[16]]"
   ]
  },
  {
   "cell_type": "markdown",
   "metadata": {
    "colab_type": "text",
    "id": "b2XZvgYGgVOZ"
   },
   "source": [
    "[Pseudo code] Keep only investor_id and Txn_Val of df_iid because it does not make sense to apply .sum() to the rest of the columns.  "
   ]
  },
  {
   "cell_type": "markdown",
   "metadata": {
    "colab_type": "text",
    "id": "gblTuwCxhUAP"
   },
   "source": [
    "[Pseudo code] Check the total row count of df_iid."
   ]
  },
  {
   "cell_type": "code",
   "execution_count": 361,
   "metadata": {},
   "outputs": [
    {
     "data": {
      "text/html": [
       "<div>\n",
       "<style scoped>\n",
       "    .dataframe tbody tr th:only-of-type {\n",
       "        vertical-align: middle;\n",
       "    }\n",
       "\n",
       "    .dataframe tbody tr th {\n",
       "        vertical-align: top;\n",
       "    }\n",
       "\n",
       "    .dataframe thead th {\n",
       "        text-align: right;\n",
       "    }\n",
       "</style>\n",
       "<table border=\"1\" class=\"dataframe\">\n",
       "  <thead>\n",
       "    <tr style=\"text-align: right;\">\n",
       "      <th></th>\n",
       "      <th>Txn_Val</th>\n",
       "    </tr>\n",
       "  </thead>\n",
       "  <tbody>\n",
       "    <tr>\n",
       "      <th>count</th>\n",
       "      <td>950.000000</td>\n",
       "    </tr>\n",
       "    <tr>\n",
       "      <th>mean</th>\n",
       "      <td>30786.042814</td>\n",
       "    </tr>\n",
       "    <tr>\n",
       "      <th>std</th>\n",
       "      <td>59941.149876</td>\n",
       "    </tr>\n",
       "    <tr>\n",
       "      <th>min</th>\n",
       "      <td>-526.772856</td>\n",
       "    </tr>\n",
       "    <tr>\n",
       "      <th>25%</th>\n",
       "      <td>4536.515884</td>\n",
       "    </tr>\n",
       "    <tr>\n",
       "      <th>50%</th>\n",
       "      <td>12118.000112</td>\n",
       "    </tr>\n",
       "    <tr>\n",
       "      <th>75%</th>\n",
       "      <td>30574.773680</td>\n",
       "    </tr>\n",
       "    <tr>\n",
       "      <th>max</th>\n",
       "      <td>806875.041052</td>\n",
       "    </tr>\n",
       "  </tbody>\n",
       "</table>\n",
       "</div>"
      ],
      "text/plain": [
       "             Txn_Val\n",
       "count     950.000000\n",
       "mean    30786.042814\n",
       "std     59941.149876\n",
       "min      -526.772856\n",
       "25%      4536.515884\n",
       "50%     12118.000112\n",
       "75%     30574.773680\n",
       "max    806875.041052"
      ]
     },
     "execution_count": 361,
     "metadata": {},
     "output_type": "execute_result"
    }
   ],
   "source": [
    "df_aggTxnval.describe()"
   ]
  },
  {
   "cell_type": "markdown",
   "metadata": {
    "colab_type": "text",
    "id": "Xng94QCrhgWG"
   },
   "source": [
    "[Pseudo code] Using this reduced df_iid as an anchor, perform left join with df on investor_id so that the following 5 columns can be added to df_iid: income, education, riskscore, subscribed, opened.  Check that the row count remain unchanged after joining, or remove duplication to keep row count constant."
   ]
  },
  {
   "cell_type": "code",
   "execution_count": 472,
   "metadata": {},
   "outputs": [],
   "source": [
    "df_iid=pd.merge(df_aggTxnval,df,on=['investor_id'])"
   ]
  },
  {
   "cell_type": "code",
   "execution_count": 473,
   "metadata": {},
   "outputs": [
    {
     "data": {
      "text/plain": [
       "Index(['investor_id', 'Txn_Val_x', 'Unnamed: 0', 'Date', 'FID1', 'Units',\n",
       "       'Gender', 'income', 'education', 'riskscore', 'subscribed', 'opened',\n",
       "       'SCRate', 'TRate', 'FRSC', 'Price', 'return-N6M', 'return-HYG',\n",
       "       'return-IVV', 'HYG_txn_cnt', 'IVV_txn_cnt', 'N6M_txn_cnt', 'Txn_Val_y',\n",
       "       'DATE', 'rtn-N6M', 'rtn-HYG', 'rtn-IVV', 'vol_N6M', 'vol_HYG',\n",
       "       'vol_IVV'],\n",
       "      dtype='object')"
      ]
     },
     "execution_count": 473,
     "metadata": {},
     "output_type": "execute_result"
    }
   ],
   "source": [
    "df_iid.columns"
   ]
  },
  {
   "cell_type": "code",
   "execution_count": 474,
   "metadata": {},
   "outputs": [],
   "source": [
    "del df_iid['Unnamed: 0']"
   ]
  },
  {
   "cell_type": "code",
   "execution_count": 475,
   "metadata": {},
   "outputs": [],
   "source": [
    "del df_iid['Txn_Val_y']"
   ]
  },
  {
   "cell_type": "markdown",
   "metadata": {
    "colab_type": "text",
    "id": "stcM9Qb9i1BT"
   },
   "source": [
    "[Pseudo code] Then, add in 6 more columns based on the values calculated earlier - N6M_rtn, HYG_rtn, IVV_rtn, N6M_vol, HYG_vol, IVV_vol."
   ]
  },
  {
   "cell_type": "code",
   "execution_count": 363,
   "metadata": {},
   "outputs": [],
   "source": [
    "##Already Added to the orginal dataframe"
   ]
  },
  {
   "cell_type": "markdown",
   "metadata": {
    "colab_type": "text",
    "id": "w8vO6TaxjVEh"
   },
   "source": [
    "[Pseudo code] Create df_iid1 =grouped.mean().  Keep only 3 columns where aggregation as mean makes more sense - SCRate, TRate, FRSC."
   ]
  },
  {
   "cell_type": "code",
   "execution_count": 476,
   "metadata": {},
   "outputs": [],
   "source": [
    "fill_mean=lambda g:g.mean()"
   ]
  },
  {
   "cell_type": "code",
   "execution_count": 477,
   "metadata": {},
   "outputs": [],
   "source": [
    "df_iid1=grouped.apply(fill_mean)"
   ]
  },
  {
   "cell_type": "code",
   "execution_count": 478,
   "metadata": {},
   "outputs": [
    {
     "data": {
      "text/html": [
       "<div>\n",
       "<style scoped>\n",
       "    .dataframe tbody tr th:only-of-type {\n",
       "        vertical-align: middle;\n",
       "    }\n",
       "\n",
       "    .dataframe tbody tr th {\n",
       "        vertical-align: top;\n",
       "    }\n",
       "\n",
       "    .dataframe thead th {\n",
       "        text-align: right;\n",
       "    }\n",
       "</style>\n",
       "<table border=\"1\" class=\"dataframe\">\n",
       "  <thead>\n",
       "    <tr style=\"text-align: right;\">\n",
       "      <th></th>\n",
       "      <th>Unnamed: 0</th>\n",
       "      <th>investor_id</th>\n",
       "      <th>Units</th>\n",
       "      <th>income</th>\n",
       "      <th>riskscore</th>\n",
       "      <th>subscribed</th>\n",
       "      <th>opened</th>\n",
       "      <th>SCRate</th>\n",
       "      <th>TRate</th>\n",
       "      <th>FRSC</th>\n",
       "      <th>...</th>\n",
       "      <th>HYG_txn_cnt</th>\n",
       "      <th>IVV_txn_cnt</th>\n",
       "      <th>N6M_txn_cnt</th>\n",
       "      <th>Txn_Val</th>\n",
       "      <th>rtn-N6M</th>\n",
       "      <th>rtn-HYG</th>\n",
       "      <th>rtn-IVV</th>\n",
       "      <th>vol_N6M</th>\n",
       "      <th>vol_HYG</th>\n",
       "      <th>vol_IVV</th>\n",
       "    </tr>\n",
       "  </thead>\n",
       "  <tbody>\n",
       "    <tr>\n",
       "      <th>count</th>\n",
       "      <td>993.000000</td>\n",
       "      <td>993.000000</td>\n",
       "      <td>993.000000</td>\n",
       "      <td>9.930000e+02</td>\n",
       "      <td>993.000000</td>\n",
       "      <td>993.000000</td>\n",
       "      <td>993.000000</td>\n",
       "      <td>993.000000</td>\n",
       "      <td>993.000000</td>\n",
       "      <td>993.000000</td>\n",
       "      <td>...</td>\n",
       "      <td>993.000000</td>\n",
       "      <td>993.000000</td>\n",
       "      <td>993.000000</td>\n",
       "      <td>993.000000</td>\n",
       "      <td>9.930000e+02</td>\n",
       "      <td>9.930000e+02</td>\n",
       "      <td>9.930000e+02</td>\n",
       "      <td>9.930000e+02</td>\n",
       "      <td>9.930000e+02</td>\n",
       "      <td>9.930000e+02</td>\n",
       "    </tr>\n",
       "    <tr>\n",
       "      <th>mean</th>\n",
       "      <td>3339.683713</td>\n",
       "      <td>55309.830816</td>\n",
       "      <td>167.423195</td>\n",
       "      <td>1.651977e+05</td>\n",
       "      <td>3.651561</td>\n",
       "      <td>0.319235</td>\n",
       "      <td>0.154079</td>\n",
       "      <td>0.025889</td>\n",
       "      <td>0.001074</td>\n",
       "      <td>2.049160</td>\n",
       "      <td>...</td>\n",
       "      <td>0.386735</td>\n",
       "      <td>0.331212</td>\n",
       "      <td>0.282052</td>\n",
       "      <td>4647.239909</td>\n",
       "      <td>1.017056e+00</td>\n",
       "      <td>9.619452e-01</td>\n",
       "      <td>1.120279e+00</td>\n",
       "      <td>3.673701e-01</td>\n",
       "      <td>4.435599e+00</td>\n",
       "      <td>2.210263e+01</td>\n",
       "    </tr>\n",
       "    <tr>\n",
       "      <th>std</th>\n",
       "      <td>1182.300919</td>\n",
       "      <td>25914.321584</td>\n",
       "      <td>513.380631</td>\n",
       "      <td>2.058490e+05</td>\n",
       "      <td>1.367627</td>\n",
       "      <td>0.466415</td>\n",
       "      <td>0.361206</td>\n",
       "      <td>0.017173</td>\n",
       "      <td>0.001738</td>\n",
       "      <td>0.605335</td>\n",
       "      <td>...</td>\n",
       "      <td>0.222174</td>\n",
       "      <td>0.319084</td>\n",
       "      <td>0.325701</td>\n",
       "      <td>9909.073058</td>\n",
       "      <td>1.660361e-14</td>\n",
       "      <td>1.361498e-14</td>\n",
       "      <td>1.532880e-14</td>\n",
       "      <td>5.696926e-15</td>\n",
       "      <td>1.037980e-13</td>\n",
       "      <td>3.068649e-13</td>\n",
       "    </tr>\n",
       "    <tr>\n",
       "      <th>min</th>\n",
       "      <td>206.000000</td>\n",
       "      <td>10051.000000</td>\n",
       "      <td>-0.890814</td>\n",
       "      <td>3.491008e+03</td>\n",
       "      <td>1.000000</td>\n",
       "      <td>0.000000</td>\n",
       "      <td>0.000000</td>\n",
       "      <td>0.000000</td>\n",
       "      <td>0.000000</td>\n",
       "      <td>1.000000</td>\n",
       "      <td>...</td>\n",
       "      <td>0.000000</td>\n",
       "      <td>0.000000</td>\n",
       "      <td>0.000000</td>\n",
       "      <td>-131.693214</td>\n",
       "      <td>1.017056e+00</td>\n",
       "      <td>9.619452e-01</td>\n",
       "      <td>1.120279e+00</td>\n",
       "      <td>3.673701e-01</td>\n",
       "      <td>4.435599e+00</td>\n",
       "      <td>2.210263e+01</td>\n",
       "    </tr>\n",
       "    <tr>\n",
       "      <th>25%</th>\n",
       "      <td>2479.333333</td>\n",
       "      <td>33369.000000</td>\n",
       "      <td>7.958232</td>\n",
       "      <td>5.532879e+04</td>\n",
       "      <td>3.000000</td>\n",
       "      <td>0.000000</td>\n",
       "      <td>0.000000</td>\n",
       "      <td>0.000000</td>\n",
       "      <td>0.000000</td>\n",
       "      <td>1.600000</td>\n",
       "      <td>...</td>\n",
       "      <td>0.250000</td>\n",
       "      <td>0.000000</td>\n",
       "      <td>0.000000</td>\n",
       "      <td>591.755105</td>\n",
       "      <td>1.017056e+00</td>\n",
       "      <td>9.619452e-01</td>\n",
       "      <td>1.120279e+00</td>\n",
       "      <td>3.673701e-01</td>\n",
       "      <td>4.435599e+00</td>\n",
       "      <td>2.210263e+01</td>\n",
       "    </tr>\n",
       "    <tr>\n",
       "      <th>50%</th>\n",
       "      <td>3368.888889</td>\n",
       "      <td>54961.000000</td>\n",
       "      <td>30.450733</td>\n",
       "      <td>1.042818e+05</td>\n",
       "      <td>4.000000</td>\n",
       "      <td>0.000000</td>\n",
       "      <td>0.000000</td>\n",
       "      <td>0.031250</td>\n",
       "      <td>0.000000</td>\n",
       "      <td>2.000000</td>\n",
       "      <td>...</td>\n",
       "      <td>0.400000</td>\n",
       "      <td>0.200000</td>\n",
       "      <td>0.200000</td>\n",
       "      <td>1678.466633</td>\n",
       "      <td>1.017056e+00</td>\n",
       "      <td>9.619452e-01</td>\n",
       "      <td>1.120279e+00</td>\n",
       "      <td>3.673701e-01</td>\n",
       "      <td>4.435599e+00</td>\n",
       "      <td>2.210263e+01</td>\n",
       "    </tr>\n",
       "    <tr>\n",
       "      <th>75%</th>\n",
       "      <td>4193.142857</td>\n",
       "      <td>78429.000000</td>\n",
       "      <td>106.807256</td>\n",
       "      <td>2.059554e+05</td>\n",
       "      <td>5.000000</td>\n",
       "      <td>1.000000</td>\n",
       "      <td>0.000000</td>\n",
       "      <td>0.040909</td>\n",
       "      <td>0.003000</td>\n",
       "      <td>2.636364</td>\n",
       "      <td>...</td>\n",
       "      <td>0.500000</td>\n",
       "      <td>0.636364</td>\n",
       "      <td>0.444444</td>\n",
       "      <td>4530.638466</td>\n",
       "      <td>1.017056e+00</td>\n",
       "      <td>9.619452e-01</td>\n",
       "      <td>1.120279e+00</td>\n",
       "      <td>3.673701e-01</td>\n",
       "      <td>4.435599e+00</td>\n",
       "      <td>2.210263e+01</td>\n",
       "    </tr>\n",
       "    <tr>\n",
       "      <th>max</th>\n",
       "      <td>6077.200000</td>\n",
       "      <td>99642.000000</td>\n",
       "      <td>9015.819277</td>\n",
       "      <td>2.598062e+06</td>\n",
       "      <td>5.000000</td>\n",
       "      <td>1.000000</td>\n",
       "      <td>1.000000</td>\n",
       "      <td>0.050000</td>\n",
       "      <td>0.005000</td>\n",
       "      <td>3.000000</td>\n",
       "      <td>...</td>\n",
       "      <td>1.000000</td>\n",
       "      <td>1.000000</td>\n",
       "      <td>1.000000</td>\n",
       "      <td>138876.279985</td>\n",
       "      <td>1.017056e+00</td>\n",
       "      <td>9.619452e-01</td>\n",
       "      <td>1.120279e+00</td>\n",
       "      <td>3.673701e-01</td>\n",
       "      <td>4.435599e+00</td>\n",
       "      <td>2.210263e+01</td>\n",
       "    </tr>\n",
       "  </tbody>\n",
       "</table>\n",
       "<p>8 rows × 24 columns</p>\n",
       "</div>"
      ],
      "text/plain": [
       "        Unnamed: 0   investor_id        Units        income   riskscore  \\\n",
       "count   993.000000    993.000000   993.000000  9.930000e+02  993.000000   \n",
       "mean   3339.683713  55309.830816   167.423195  1.651977e+05    3.651561   \n",
       "std    1182.300919  25914.321584   513.380631  2.058490e+05    1.367627   \n",
       "min     206.000000  10051.000000    -0.890814  3.491008e+03    1.000000   \n",
       "25%    2479.333333  33369.000000     7.958232  5.532879e+04    3.000000   \n",
       "50%    3368.888889  54961.000000    30.450733  1.042818e+05    4.000000   \n",
       "75%    4193.142857  78429.000000   106.807256  2.059554e+05    5.000000   \n",
       "max    6077.200000  99642.000000  9015.819277  2.598062e+06    5.000000   \n",
       "\n",
       "       subscribed      opened      SCRate       TRate        FRSC  ...  \\\n",
       "count  993.000000  993.000000  993.000000  993.000000  993.000000  ...   \n",
       "mean     0.319235    0.154079    0.025889    0.001074    2.049160  ...   \n",
       "std      0.466415    0.361206    0.017173    0.001738    0.605335  ...   \n",
       "min      0.000000    0.000000    0.000000    0.000000    1.000000  ...   \n",
       "25%      0.000000    0.000000    0.000000    0.000000    1.600000  ...   \n",
       "50%      0.000000    0.000000    0.031250    0.000000    2.000000  ...   \n",
       "75%      1.000000    0.000000    0.040909    0.003000    2.636364  ...   \n",
       "max      1.000000    1.000000    0.050000    0.005000    3.000000  ...   \n",
       "\n",
       "       HYG_txn_cnt  IVV_txn_cnt  N6M_txn_cnt        Txn_Val       rtn-N6M  \\\n",
       "count   993.000000   993.000000   993.000000     993.000000  9.930000e+02   \n",
       "mean      0.386735     0.331212     0.282052    4647.239909  1.017056e+00   \n",
       "std       0.222174     0.319084     0.325701    9909.073058  1.660361e-14   \n",
       "min       0.000000     0.000000     0.000000    -131.693214  1.017056e+00   \n",
       "25%       0.250000     0.000000     0.000000     591.755105  1.017056e+00   \n",
       "50%       0.400000     0.200000     0.200000    1678.466633  1.017056e+00   \n",
       "75%       0.500000     0.636364     0.444444    4530.638466  1.017056e+00   \n",
       "max       1.000000     1.000000     1.000000  138876.279985  1.017056e+00   \n",
       "\n",
       "            rtn-HYG       rtn-IVV       vol_N6M       vol_HYG       vol_IVV  \n",
       "count  9.930000e+02  9.930000e+02  9.930000e+02  9.930000e+02  9.930000e+02  \n",
       "mean   9.619452e-01  1.120279e+00  3.673701e-01  4.435599e+00  2.210263e+01  \n",
       "std    1.361498e-14  1.532880e-14  5.696926e-15  1.037980e-13  3.068649e-13  \n",
       "min    9.619452e-01  1.120279e+00  3.673701e-01  4.435599e+00  2.210263e+01  \n",
       "25%    9.619452e-01  1.120279e+00  3.673701e-01  4.435599e+00  2.210263e+01  \n",
       "50%    9.619452e-01  1.120279e+00  3.673701e-01  4.435599e+00  2.210263e+01  \n",
       "75%    9.619452e-01  1.120279e+00  3.673701e-01  4.435599e+00  2.210263e+01  \n",
       "max    9.619452e-01  1.120279e+00  3.673701e-01  4.435599e+00  2.210263e+01  \n",
       "\n",
       "[8 rows x 24 columns]"
      ]
     },
     "execution_count": 478,
     "metadata": {},
     "output_type": "execute_result"
    }
   ],
   "source": [
    "df_iid1.describe()"
   ]
  },
  {
   "cell_type": "code",
   "execution_count": 479,
   "metadata": {},
   "outputs": [],
   "source": [
    "df_iid1=df_iid1.iloc[:,[8,9,7]]"
   ]
  },
  {
   "cell_type": "markdown",
   "metadata": {
    "colab_type": "text",
    "id": "c55WPkqJjQbl"
   },
   "source": [
    "[Pseudo code] Using df_iid as anchor, perform left join with df_iid1 on investor_id.  This will patch in the 3 newly-created columns.  Confirm that row count of df_iid remains unchanged. "
   ]
  },
  {
   "cell_type": "code",
   "execution_count": 480,
   "metadata": {},
   "outputs": [],
   "source": [
    "df_sn1=pd.merge(df_iid,df_iid1,on='investor_id')"
   ]
  },
  {
   "cell_type": "code",
   "execution_count": 481,
   "metadata": {},
   "outputs": [
    {
     "data": {
      "text/plain": [
       "Index(['investor_id', 'Txn_Val_x', 'Date', 'FID1', 'Units', 'Gender', 'income',\n",
       "       'education', 'riskscore', 'subscribed', 'opened', 'SCRate_x', 'TRate_x',\n",
       "       'FRSC_x', 'Price', 'return-N6M', 'return-HYG', 'return-IVV',\n",
       "       'HYG_txn_cnt', 'IVV_txn_cnt', 'N6M_txn_cnt', 'DATE', 'rtn-N6M',\n",
       "       'rtn-HYG', 'rtn-IVV', 'vol_N6M', 'vol_HYG', 'vol_IVV', 'TRate_y',\n",
       "       'FRSC_y', 'SCRate_y'],\n",
       "      dtype='object')"
      ]
     },
     "execution_count": 481,
     "metadata": {},
     "output_type": "execute_result"
    }
   ],
   "source": [
    "df_sn1.columns"
   ]
  },
  {
   "cell_type": "code",
   "execution_count": 563,
   "metadata": {},
   "outputs": [],
   "source": [
    "del df_sn1['SCRate_x']"
   ]
  },
  {
   "cell_type": "code",
   "execution_count": 564,
   "metadata": {},
   "outputs": [],
   "source": [
    "del df_sn1['TRate_x']"
   ]
  },
  {
   "cell_type": "code",
   "execution_count": 565,
   "metadata": {},
   "outputs": [],
   "source": [
    "del df_sn1['FRSC_x']"
   ]
  },
  {
   "cell_type": "code",
   "execution_count": 566,
   "metadata": {},
   "outputs": [],
   "source": [
    "df_sn1=df_sn1.join(pd.get_dummies(df_sn1['Gender'],prefix='gen'))"
   ]
  },
  {
   "cell_type": "code",
   "execution_count": 568,
   "metadata": {},
   "outputs": [],
   "source": [
    "del df_sn1['Gender']"
   ]
  },
  {
   "cell_type": "code",
   "execution_count": 569,
   "metadata": {},
   "outputs": [],
   "source": [
    "df_sn1=df_sn1.join(pd.get_dummies(df_sn1['education'],prefix='ed'))"
   ]
  },
  {
   "cell_type": "code",
   "execution_count": 570,
   "metadata": {},
   "outputs": [],
   "source": [
    "del df_sn1['education']"
   ]
  },
  {
   "cell_type": "code",
   "execution_count": 571,
   "metadata": {},
   "outputs": [],
   "source": [
    "df_sn1['subscribed']=df_sn1['subscribed'].apply(lambda x:1 if x else 0)"
   ]
  },
  {
   "cell_type": "code",
   "execution_count": 572,
   "metadata": {},
   "outputs": [
    {
     "data": {
      "text/plain": [
       "Index(['investor_id', 'HYG_txn_cnt_x', 'IVV_txn_cnt_x', 'N6M_txn_cnt_x',\n",
       "       'Date', 'FID1', 'Units', 'income', 'riskscore', 'subscribed', 'opened',\n",
       "       'Price', 'return-N6M', 'return-HYG', 'return-IVV', 'DATE', 'rtn-N6M',\n",
       "       'rtn-HYG', 'rtn-IVV', 'vol_N6M', 'vol_HYG', 'vol_IVV', 'TRate_y',\n",
       "       'FRSC_y', 'SCRate_y', 'gen_F', 'gen_M', 'ed_Deg or abv',\n",
       "       'ed_H.Sch/Dip.', 'ed_Sec. or below'],\n",
       "      dtype='object')"
      ]
     },
     "execution_count": 572,
     "metadata": {},
     "output_type": "execute_result"
    }
   ],
   "source": [
    "df_sn1.columns"
   ]
  },
  {
   "cell_type": "code",
   "execution_count": 493,
   "metadata": {},
   "outputs": [
    {
     "data": {
      "text/html": [
       "<div>\n",
       "<style scoped>\n",
       "    .dataframe tbody tr th:only-of-type {\n",
       "        vertical-align: middle;\n",
       "    }\n",
       "\n",
       "    .dataframe tbody tr th {\n",
       "        vertical-align: top;\n",
       "    }\n",
       "\n",
       "    .dataframe thead th {\n",
       "        text-align: right;\n",
       "    }\n",
       "</style>\n",
       "<table border=\"1\" class=\"dataframe\">\n",
       "  <thead>\n",
       "    <tr style=\"text-align: right;\">\n",
       "      <th></th>\n",
       "      <th>investor_id</th>\n",
       "      <th>Txn_Val_x</th>\n",
       "      <th>Date</th>\n",
       "      <th>FID1</th>\n",
       "      <th>Units</th>\n",
       "      <th>income</th>\n",
       "      <th>riskscore</th>\n",
       "      <th>subscribed</th>\n",
       "      <th>opened</th>\n",
       "      <th>Price</th>\n",
       "      <th>...</th>\n",
       "      <th>vol_HYG</th>\n",
       "      <th>vol_IVV</th>\n",
       "      <th>TRate_y</th>\n",
       "      <th>FRSC_y</th>\n",
       "      <th>SCRate_y</th>\n",
       "      <th>gen_F</th>\n",
       "      <th>gen_M</th>\n",
       "      <th>ed_Deg or abv</th>\n",
       "      <th>ed_H.Sch/Dip.</th>\n",
       "      <th>ed_Sec. or below</th>\n",
       "    </tr>\n",
       "  </thead>\n",
       "  <tbody>\n",
       "    <tr>\n",
       "      <th>0</th>\n",
       "      <td>10051</td>\n",
       "      <td>23473.925401</td>\n",
       "      <td>2019/8/26</td>\n",
       "      <td>HYG</td>\n",
       "      <td>30.550818</td>\n",
       "      <td>324465.7233</td>\n",
       "      <td>3</td>\n",
       "      <td>0</td>\n",
       "      <td>0</td>\n",
       "      <td>86.980003</td>\n",
       "      <td>...</td>\n",
       "      <td>4.435599</td>\n",
       "      <td>22.102633</td>\n",
       "      <td>0.0</td>\n",
       "      <td>1.5</td>\n",
       "      <td>0.03</td>\n",
       "      <td>0</td>\n",
       "      <td>1</td>\n",
       "      <td>1</td>\n",
       "      <td>0</td>\n",
       "      <td>0</td>\n",
       "    </tr>\n",
       "    <tr>\n",
       "      <th>1</th>\n",
       "      <td>10051</td>\n",
       "      <td>23473.925401</td>\n",
       "      <td>2019/12/5</td>\n",
       "      <td>HYG</td>\n",
       "      <td>0.000000</td>\n",
       "      <td>324465.7233</td>\n",
       "      <td>3</td>\n",
       "      <td>0</td>\n",
       "      <td>0</td>\n",
       "      <td>86.809998</td>\n",
       "      <td>...</td>\n",
       "      <td>4.435599</td>\n",
       "      <td>22.102633</td>\n",
       "      <td>0.0</td>\n",
       "      <td>1.5</td>\n",
       "      <td>0.03</td>\n",
       "      <td>0</td>\n",
       "      <td>1</td>\n",
       "      <td>1</td>\n",
       "      <td>0</td>\n",
       "      <td>0</td>\n",
       "    </tr>\n",
       "    <tr>\n",
       "      <th>2</th>\n",
       "      <td>10051</td>\n",
       "      <td>23473.925401</td>\n",
       "      <td>2019/12/16</td>\n",
       "      <td>N6M</td>\n",
       "      <td>-238.537721</td>\n",
       "      <td>324465.7233</td>\n",
       "      <td>3</td>\n",
       "      <td>0</td>\n",
       "      <td>0</td>\n",
       "      <td>11.040000</td>\n",
       "      <td>...</td>\n",
       "      <td>4.435599</td>\n",
       "      <td>22.102633</td>\n",
       "      <td>0.0</td>\n",
       "      <td>1.5</td>\n",
       "      <td>0.03</td>\n",
       "      <td>0</td>\n",
       "      <td>1</td>\n",
       "      <td>1</td>\n",
       "      <td>0</td>\n",
       "      <td>0</td>\n",
       "    </tr>\n",
       "    <tr>\n",
       "      <th>3</th>\n",
       "      <td>10051</td>\n",
       "      <td>23473.925401</td>\n",
       "      <td>2020/3/2</td>\n",
       "      <td>HYG</td>\n",
       "      <td>120.453956</td>\n",
       "      <td>324465.7233</td>\n",
       "      <td>3</td>\n",
       "      <td>0</td>\n",
       "      <td>0</td>\n",
       "      <td>86.309998</td>\n",
       "      <td>...</td>\n",
       "      <td>4.435599</td>\n",
       "      <td>22.102633</td>\n",
       "      <td>0.0</td>\n",
       "      <td>1.5</td>\n",
       "      <td>0.03</td>\n",
       "      <td>0</td>\n",
       "      <td>1</td>\n",
       "      <td>1</td>\n",
       "      <td>0</td>\n",
       "      <td>0</td>\n",
       "    </tr>\n",
       "    <tr>\n",
       "      <th>4</th>\n",
       "      <td>10051</td>\n",
       "      <td>23473.925401</td>\n",
       "      <td>2020/3/25</td>\n",
       "      <td>HYG</td>\n",
       "      <td>0.000000</td>\n",
       "      <td>324465.7233</td>\n",
       "      <td>3</td>\n",
       "      <td>0</td>\n",
       "      <td>0</td>\n",
       "      <td>73.470001</td>\n",
       "      <td>...</td>\n",
       "      <td>4.435599</td>\n",
       "      <td>22.102633</td>\n",
       "      <td>0.0</td>\n",
       "      <td>1.5</td>\n",
       "      <td>0.03</td>\n",
       "      <td>0</td>\n",
       "      <td>1</td>\n",
       "      <td>1</td>\n",
       "      <td>0</td>\n",
       "      <td>0</td>\n",
       "    </tr>\n",
       "  </tbody>\n",
       "</table>\n",
       "<p>5 rows × 31 columns</p>\n",
       "</div>"
      ],
      "text/plain": [
       "   investor_id     Txn_Val_x        Date FID1       Units       income  \\\n",
       "0        10051  23473.925401   2019/8/26  HYG   30.550818  324465.7233   \n",
       "1        10051  23473.925401   2019/12/5  HYG    0.000000  324465.7233   \n",
       "2        10051  23473.925401  2019/12/16  N6M -238.537721  324465.7233   \n",
       "3        10051  23473.925401    2020/3/2  HYG  120.453956  324465.7233   \n",
       "4        10051  23473.925401   2020/3/25  HYG    0.000000  324465.7233   \n",
       "\n",
       "   riskscore  subscribed  opened      Price  ...   vol_HYG    vol_IVV  \\\n",
       "0          3           0       0  86.980003  ...  4.435599  22.102633   \n",
       "1          3           0       0  86.809998  ...  4.435599  22.102633   \n",
       "2          3           0       0  11.040000  ...  4.435599  22.102633   \n",
       "3          3           0       0  86.309998  ...  4.435599  22.102633   \n",
       "4          3           0       0  73.470001  ...  4.435599  22.102633   \n",
       "\n",
       "   TRate_y  FRSC_y  SCRate_y  gen_F gen_M  ed_Deg or abv  ed_H.Sch/Dip.  \\\n",
       "0      0.0     1.5      0.03      0     1              1              0   \n",
       "1      0.0     1.5      0.03      0     1              1              0   \n",
       "2      0.0     1.5      0.03      0     1              1              0   \n",
       "3      0.0     1.5      0.03      0     1              1              0   \n",
       "4      0.0     1.5      0.03      0     1              1              0   \n",
       "\n",
       "   ed_Sec. or below  \n",
       "0                 0  \n",
       "1                 0  \n",
       "2                 0  \n",
       "3                 0  \n",
       "4                 0  \n",
       "\n",
       "[5 rows x 31 columns]"
      ]
     },
     "execution_count": 493,
     "metadata": {},
     "output_type": "execute_result"
    }
   ],
   "source": [
    "df_sn1.head()"
   ]
  },
  {
   "cell_type": "code",
   "execution_count": 371,
   "metadata": {},
   "outputs": [],
   "source": [
    "#remedied by creating in the new variables in the orginal df, joining TXN_value to the original df"
   ]
  },
  {
   "cell_type": "code",
   "execution_count": 494,
   "metadata": {},
   "outputs": [],
   "source": [
    "del df_sn1['FID1']"
   ]
  },
  {
   "cell_type": "code",
   "execution_count": 495,
   "metadata": {},
   "outputs": [],
   "source": [
    "del df_sn1['investor_id']"
   ]
  },
  {
   "cell_type": "code",
   "execution_count": 497,
   "metadata": {},
   "outputs": [
    {
     "data": {
      "text/html": [
       "<div>\n",
       "<style scoped>\n",
       "    .dataframe tbody tr th:only-of-type {\n",
       "        vertical-align: middle;\n",
       "    }\n",
       "\n",
       "    .dataframe tbody tr th {\n",
       "        vertical-align: top;\n",
       "    }\n",
       "\n",
       "    .dataframe thead th {\n",
       "        text-align: right;\n",
       "    }\n",
       "</style>\n",
       "<table border=\"1\" class=\"dataframe\">\n",
       "  <thead>\n",
       "    <tr style=\"text-align: right;\">\n",
       "      <th></th>\n",
       "      <th>Txn_Val_x</th>\n",
       "      <th>Date</th>\n",
       "      <th>Units</th>\n",
       "      <th>income</th>\n",
       "      <th>riskscore</th>\n",
       "      <th>subscribed</th>\n",
       "      <th>opened</th>\n",
       "      <th>Price</th>\n",
       "      <th>return-N6M</th>\n",
       "      <th>return-HYG</th>\n",
       "      <th>...</th>\n",
       "      <th>vol_HYG</th>\n",
       "      <th>vol_IVV</th>\n",
       "      <th>TRate_y</th>\n",
       "      <th>FRSC_y</th>\n",
       "      <th>SCRate_y</th>\n",
       "      <th>gen_F</th>\n",
       "      <th>gen_M</th>\n",
       "      <th>ed_Deg or abv</th>\n",
       "      <th>ed_H.Sch/Dip.</th>\n",
       "      <th>ed_Sec. or below</th>\n",
       "    </tr>\n",
       "  </thead>\n",
       "  <tbody>\n",
       "    <tr>\n",
       "      <th>0</th>\n",
       "      <td>23473.925401</td>\n",
       "      <td>2019/8/26</td>\n",
       "      <td>30.550818</td>\n",
       "      <td>324465.7233</td>\n",
       "      <td>3</td>\n",
       "      <td>0</td>\n",
       "      <td>0</td>\n",
       "      <td>86.980003</td>\n",
       "      <td>0.000000</td>\n",
       "      <td>0.000000</td>\n",
       "      <td>...</td>\n",
       "      <td>4.435599</td>\n",
       "      <td>22.102633</td>\n",
       "      <td>0.0</td>\n",
       "      <td>1.5</td>\n",
       "      <td>0.03</td>\n",
       "      <td>0</td>\n",
       "      <td>1</td>\n",
       "      <td>1</td>\n",
       "      <td>0</td>\n",
       "      <td>0</td>\n",
       "    </tr>\n",
       "    <tr>\n",
       "      <th>1</th>\n",
       "      <td>23473.925401</td>\n",
       "      <td>2019/12/5</td>\n",
       "      <td>0.000000</td>\n",
       "      <td>324465.7233</td>\n",
       "      <td>3</td>\n",
       "      <td>0</td>\n",
       "      <td>0</td>\n",
       "      <td>86.809998</td>\n",
       "      <td>0.000000</td>\n",
       "      <td>0.001500</td>\n",
       "      <td>...</td>\n",
       "      <td>4.435599</td>\n",
       "      <td>22.102633</td>\n",
       "      <td>0.0</td>\n",
       "      <td>1.5</td>\n",
       "      <td>0.03</td>\n",
       "      <td>0</td>\n",
       "      <td>1</td>\n",
       "      <td>1</td>\n",
       "      <td>0</td>\n",
       "      <td>0</td>\n",
       "    </tr>\n",
       "    <tr>\n",
       "      <th>2</th>\n",
       "      <td>23473.925401</td>\n",
       "      <td>2019/12/16</td>\n",
       "      <td>-238.537721</td>\n",
       "      <td>324465.7233</td>\n",
       "      <td>3</td>\n",
       "      <td>0</td>\n",
       "      <td>0</td>\n",
       "      <td>11.040000</td>\n",
       "      <td>-0.000905</td>\n",
       "      <td>0.001940</td>\n",
       "      <td>...</td>\n",
       "      <td>4.435599</td>\n",
       "      <td>22.102633</td>\n",
       "      <td>0.0</td>\n",
       "      <td>1.5</td>\n",
       "      <td>0.03</td>\n",
       "      <td>0</td>\n",
       "      <td>1</td>\n",
       "      <td>1</td>\n",
       "      <td>0</td>\n",
       "      <td>0</td>\n",
       "    </tr>\n",
       "    <tr>\n",
       "      <th>3</th>\n",
       "      <td>23473.925401</td>\n",
       "      <td>2020/3/2</td>\n",
       "      <td>120.453956</td>\n",
       "      <td>324465.7233</td>\n",
       "      <td>3</td>\n",
       "      <td>0</td>\n",
       "      <td>0</td>\n",
       "      <td>86.309998</td>\n",
       "      <td>-0.006189</td>\n",
       "      <td>0.003138</td>\n",
       "      <td>...</td>\n",
       "      <td>4.435599</td>\n",
       "      <td>22.102633</td>\n",
       "      <td>0.0</td>\n",
       "      <td>1.5</td>\n",
       "      <td>0.03</td>\n",
       "      <td>0</td>\n",
       "      <td>1</td>\n",
       "      <td>1</td>\n",
       "      <td>0</td>\n",
       "      <td>0</td>\n",
       "    </tr>\n",
       "    <tr>\n",
       "      <th>4</th>\n",
       "      <td>23473.925401</td>\n",
       "      <td>2020/3/25</td>\n",
       "      <td>0.000000</td>\n",
       "      <td>324465.7233</td>\n",
       "      <td>3</td>\n",
       "      <td>0</td>\n",
       "      <td>0</td>\n",
       "      <td>73.470001</td>\n",
       "      <td>0.010204</td>\n",
       "      <td>0.028128</td>\n",
       "      <td>...</td>\n",
       "      <td>4.435599</td>\n",
       "      <td>22.102633</td>\n",
       "      <td>0.0</td>\n",
       "      <td>1.5</td>\n",
       "      <td>0.03</td>\n",
       "      <td>0</td>\n",
       "      <td>1</td>\n",
       "      <td>1</td>\n",
       "      <td>0</td>\n",
       "      <td>0</td>\n",
       "    </tr>\n",
       "  </tbody>\n",
       "</table>\n",
       "<p>5 rows × 29 columns</p>\n",
       "</div>"
      ],
      "text/plain": [
       "      Txn_Val_x        Date       Units       income  riskscore  subscribed  \\\n",
       "0  23473.925401   2019/8/26   30.550818  324465.7233          3           0   \n",
       "1  23473.925401   2019/12/5    0.000000  324465.7233          3           0   \n",
       "2  23473.925401  2019/12/16 -238.537721  324465.7233          3           0   \n",
       "3  23473.925401    2020/3/2  120.453956  324465.7233          3           0   \n",
       "4  23473.925401   2020/3/25    0.000000  324465.7233          3           0   \n",
       "\n",
       "   opened      Price  return-N6M  return-HYG  ...   vol_HYG    vol_IVV  \\\n",
       "0       0  86.980003    0.000000    0.000000  ...  4.435599  22.102633   \n",
       "1       0  86.809998    0.000000    0.001500  ...  4.435599  22.102633   \n",
       "2       0  11.040000   -0.000905    0.001940  ...  4.435599  22.102633   \n",
       "3       0  86.309998   -0.006189    0.003138  ...  4.435599  22.102633   \n",
       "4       0  73.470001    0.010204    0.028128  ...  4.435599  22.102633   \n",
       "\n",
       "   TRate_y  FRSC_y SCRate_y  gen_F  gen_M  ed_Deg or abv  ed_H.Sch/Dip.  \\\n",
       "0      0.0     1.5     0.03      0      1              1              0   \n",
       "1      0.0     1.5     0.03      0      1              1              0   \n",
       "2      0.0     1.5     0.03      0      1              1              0   \n",
       "3      0.0     1.5     0.03      0      1              1              0   \n",
       "4      0.0     1.5     0.03      0      1              1              0   \n",
       "\n",
       "   ed_Sec. or below  \n",
       "0                 0  \n",
       "1                 0  \n",
       "2                 0  \n",
       "3                 0  \n",
       "4                 0  \n",
       "\n",
       "[5 rows x 29 columns]"
      ]
     },
     "execution_count": 497,
     "metadata": {},
     "output_type": "execute_result"
    }
   ],
   "source": [
    "df_sn1.head()"
   ]
  },
  {
   "cell_type": "markdown",
   "metadata": {
    "colab_type": "text",
    "id": "n-VlnXBcmAp2"
   },
   "source": [
    "**Export csv file for regression analysis**"
   ]
  },
  {
   "cell_type": "markdown",
   "metadata": {
    "colab_type": "text",
    "id": "M0410C6pmaNN"
   },
   "source": [
    "[Pseudo code] \n",
    "- Drop the investor_id column\n",
    "- Rename some of the column names that has been changed before back to its original name "
   ]
  },
  {
   "cell_type": "code",
   "execution_count": 496,
   "metadata": {},
   "outputs": [],
   "source": [
    "#no need to rename, ML model does not recognize string values"
   ]
  },
  {
   "cell_type": "markdown",
   "metadata": {
    "colab_type": "text",
    "id": "Ernci5A6nJul"
   },
   "source": [
    "[Note on file exporting]  I have kept the original file name you have used.  However, in light of the different use cases of this Python script, I'd recommend a different naming convention to the file which goes like this:\n",
    "\n",
    "***\"Txn_Record_[Response_variable_name]_[Date_range]_[Fund_Range].csv\"***\n",
    "\n",
    "Response_variable_name:  In this case, we can use 'deltaAUM'.\n",
    "\n",
    "Date_range: Possibly concatenate the start and end date of the slice of data.\n",
    "\n",
    "Fund_range:  At the moment, just put 'all'.  In case we want to analyse a specific fund, filter for the relevant fund's transaction record during the earlier data preparation step and state that in the file name."
   ]
  },
  {
   "cell_type": "code",
   "execution_count": 500,
   "metadata": {},
   "outputs": [],
   "source": [
    "df_sn1.index=pd.to_datetime(df_sn1['Date'])"
   ]
  },
  {
   "cell_type": "code",
   "execution_count": 504,
   "metadata": {},
   "outputs": [
    {
     "data": {
      "text/html": [
       "<div>\n",
       "<style scoped>\n",
       "    .dataframe tbody tr th:only-of-type {\n",
       "        vertical-align: middle;\n",
       "    }\n",
       "\n",
       "    .dataframe tbody tr th {\n",
       "        vertical-align: top;\n",
       "    }\n",
       "\n",
       "    .dataframe thead th {\n",
       "        text-align: right;\n",
       "    }\n",
       "</style>\n",
       "<table border=\"1\" class=\"dataframe\">\n",
       "  <thead>\n",
       "    <tr style=\"text-align: right;\">\n",
       "      <th></th>\n",
       "      <th>Txn_Val_x</th>\n",
       "      <th>Date</th>\n",
       "      <th>Units</th>\n",
       "      <th>income</th>\n",
       "      <th>riskscore</th>\n",
       "      <th>subscribed</th>\n",
       "      <th>opened</th>\n",
       "      <th>Price</th>\n",
       "      <th>return-N6M</th>\n",
       "      <th>return-HYG</th>\n",
       "      <th>...</th>\n",
       "      <th>vol_HYG</th>\n",
       "      <th>vol_IVV</th>\n",
       "      <th>TRate_y</th>\n",
       "      <th>FRSC_y</th>\n",
       "      <th>SCRate_y</th>\n",
       "      <th>gen_F</th>\n",
       "      <th>gen_M</th>\n",
       "      <th>ed_Deg or abv</th>\n",
       "      <th>ed_H.Sch/Dip.</th>\n",
       "      <th>ed_Sec. or below</th>\n",
       "    </tr>\n",
       "    <tr>\n",
       "      <th>Date</th>\n",
       "      <th></th>\n",
       "      <th></th>\n",
       "      <th></th>\n",
       "      <th></th>\n",
       "      <th></th>\n",
       "      <th></th>\n",
       "      <th></th>\n",
       "      <th></th>\n",
       "      <th></th>\n",
       "      <th></th>\n",
       "      <th></th>\n",
       "      <th></th>\n",
       "      <th></th>\n",
       "      <th></th>\n",
       "      <th></th>\n",
       "      <th></th>\n",
       "      <th></th>\n",
       "      <th></th>\n",
       "      <th></th>\n",
       "      <th></th>\n",
       "      <th></th>\n",
       "    </tr>\n",
       "  </thead>\n",
       "  <tbody>\n",
       "    <tr>\n",
       "      <th>2019-08-26</th>\n",
       "      <td>23473.925401</td>\n",
       "      <td>2019/8/26</td>\n",
       "      <td>30.550818</td>\n",
       "      <td>324465.7233</td>\n",
       "      <td>3</td>\n",
       "      <td>0</td>\n",
       "      <td>0</td>\n",
       "      <td>86.980003</td>\n",
       "      <td>0.000000</td>\n",
       "      <td>0.000000</td>\n",
       "      <td>...</td>\n",
       "      <td>4.435599</td>\n",
       "      <td>22.102633</td>\n",
       "      <td>0.0</td>\n",
       "      <td>1.500000</td>\n",
       "      <td>0.030000</td>\n",
       "      <td>0</td>\n",
       "      <td>1</td>\n",
       "      <td>1</td>\n",
       "      <td>0</td>\n",
       "      <td>0</td>\n",
       "    </tr>\n",
       "    <tr>\n",
       "      <th>2019-12-05</th>\n",
       "      <td>23473.925401</td>\n",
       "      <td>2019/12/5</td>\n",
       "      <td>0.000000</td>\n",
       "      <td>324465.7233</td>\n",
       "      <td>3</td>\n",
       "      <td>0</td>\n",
       "      <td>0</td>\n",
       "      <td>86.809998</td>\n",
       "      <td>0.000000</td>\n",
       "      <td>0.001500</td>\n",
       "      <td>...</td>\n",
       "      <td>4.435599</td>\n",
       "      <td>22.102633</td>\n",
       "      <td>0.0</td>\n",
       "      <td>1.500000</td>\n",
       "      <td>0.030000</td>\n",
       "      <td>0</td>\n",
       "      <td>1</td>\n",
       "      <td>1</td>\n",
       "      <td>0</td>\n",
       "      <td>0</td>\n",
       "    </tr>\n",
       "    <tr>\n",
       "      <th>2019-12-16</th>\n",
       "      <td>23473.925401</td>\n",
       "      <td>2019/12/16</td>\n",
       "      <td>-238.537721</td>\n",
       "      <td>324465.7233</td>\n",
       "      <td>3</td>\n",
       "      <td>0</td>\n",
       "      <td>0</td>\n",
       "      <td>11.040000</td>\n",
       "      <td>-0.000905</td>\n",
       "      <td>0.001940</td>\n",
       "      <td>...</td>\n",
       "      <td>4.435599</td>\n",
       "      <td>22.102633</td>\n",
       "      <td>0.0</td>\n",
       "      <td>1.500000</td>\n",
       "      <td>0.030000</td>\n",
       "      <td>0</td>\n",
       "      <td>1</td>\n",
       "      <td>1</td>\n",
       "      <td>0</td>\n",
       "      <td>0</td>\n",
       "    </tr>\n",
       "    <tr>\n",
       "      <th>2020-03-02</th>\n",
       "      <td>23473.925401</td>\n",
       "      <td>2020/3/2</td>\n",
       "      <td>120.453956</td>\n",
       "      <td>324465.7233</td>\n",
       "      <td>3</td>\n",
       "      <td>0</td>\n",
       "      <td>0</td>\n",
       "      <td>86.309998</td>\n",
       "      <td>-0.006189</td>\n",
       "      <td>0.003138</td>\n",
       "      <td>...</td>\n",
       "      <td>4.435599</td>\n",
       "      <td>22.102633</td>\n",
       "      <td>0.0</td>\n",
       "      <td>1.500000</td>\n",
       "      <td>0.030000</td>\n",
       "      <td>0</td>\n",
       "      <td>1</td>\n",
       "      <td>1</td>\n",
       "      <td>0</td>\n",
       "      <td>0</td>\n",
       "    </tr>\n",
       "    <tr>\n",
       "      <th>2020-03-25</th>\n",
       "      <td>23473.925401</td>\n",
       "      <td>2020/3/25</td>\n",
       "      <td>0.000000</td>\n",
       "      <td>324465.7233</td>\n",
       "      <td>3</td>\n",
       "      <td>0</td>\n",
       "      <td>0</td>\n",
       "      <td>73.470001</td>\n",
       "      <td>0.010204</td>\n",
       "      <td>0.028128</td>\n",
       "      <td>...</td>\n",
       "      <td>4.435599</td>\n",
       "      <td>22.102633</td>\n",
       "      <td>0.0</td>\n",
       "      <td>1.500000</td>\n",
       "      <td>0.030000</td>\n",
       "      <td>0</td>\n",
       "      <td>1</td>\n",
       "      <td>1</td>\n",
       "      <td>0</td>\n",
       "      <td>0</td>\n",
       "    </tr>\n",
       "    <tr>\n",
       "      <th>...</th>\n",
       "      <td>...</td>\n",
       "      <td>...</td>\n",
       "      <td>...</td>\n",
       "      <td>...</td>\n",
       "      <td>...</td>\n",
       "      <td>...</td>\n",
       "      <td>...</td>\n",
       "      <td>...</td>\n",
       "      <td>...</td>\n",
       "      <td>...</td>\n",
       "      <td>...</td>\n",
       "      <td>...</td>\n",
       "      <td>...</td>\n",
       "      <td>...</td>\n",
       "      <td>...</td>\n",
       "      <td>...</td>\n",
       "      <td>...</td>\n",
       "      <td>...</td>\n",
       "      <td>...</td>\n",
       "      <td>...</td>\n",
       "      <td>...</td>\n",
       "    </tr>\n",
       "    <tr>\n",
       "      <th>2020-01-23</th>\n",
       "      <td>46209.176941</td>\n",
       "      <td>2020/1/23</td>\n",
       "      <td>-1052.232630</td>\n",
       "      <td>151636.1965</td>\n",
       "      <td>3</td>\n",
       "      <td>0</td>\n",
       "      <td>0</td>\n",
       "      <td>11.180000</td>\n",
       "      <td>0.004492</td>\n",
       "      <td>-0.003057</td>\n",
       "      <td>...</td>\n",
       "      <td>4.435599</td>\n",
       "      <td>22.102633</td>\n",
       "      <td>0.0</td>\n",
       "      <td>1.666667</td>\n",
       "      <td>0.032222</td>\n",
       "      <td>0</td>\n",
       "      <td>1</td>\n",
       "      <td>0</td>\n",
       "      <td>1</td>\n",
       "      <td>0</td>\n",
       "    </tr>\n",
       "    <tr>\n",
       "      <th>2020-04-08</th>\n",
       "      <td>46209.176941</td>\n",
       "      <td>2020/4/8</td>\n",
       "      <td>78.010875</td>\n",
       "      <td>151636.1965</td>\n",
       "      <td>3</td>\n",
       "      <td>0</td>\n",
       "      <td>0</td>\n",
       "      <td>77.300003</td>\n",
       "      <td>0.008876</td>\n",
       "      <td>0.026015</td>\n",
       "      <td>...</td>\n",
       "      <td>4.435599</td>\n",
       "      <td>22.102633</td>\n",
       "      <td>0.0</td>\n",
       "      <td>1.666667</td>\n",
       "      <td>0.032222</td>\n",
       "      <td>0</td>\n",
       "      <td>1</td>\n",
       "      <td>0</td>\n",
       "      <td>1</td>\n",
       "      <td>0</td>\n",
       "    </tr>\n",
       "    <tr>\n",
       "      <th>2020-01-20</th>\n",
       "      <td>46209.176941</td>\n",
       "      <td>2020/1/20</td>\n",
       "      <td>132.608883</td>\n",
       "      <td>151636.1965</td>\n",
       "      <td>3</td>\n",
       "      <td>0</td>\n",
       "      <td>0</td>\n",
       "      <td>11.170000</td>\n",
       "      <td>0.000000</td>\n",
       "      <td>-0.001075</td>\n",
       "      <td>...</td>\n",
       "      <td>4.435599</td>\n",
       "      <td>22.102633</td>\n",
       "      <td>0.0</td>\n",
       "      <td>1.666667</td>\n",
       "      <td>0.032222</td>\n",
       "      <td>0</td>\n",
       "      <td>1</td>\n",
       "      <td>0</td>\n",
       "      <td>1</td>\n",
       "      <td>0</td>\n",
       "    </tr>\n",
       "    <tr>\n",
       "      <th>2020-01-23</th>\n",
       "      <td>46209.176941</td>\n",
       "      <td>2020/1/23</td>\n",
       "      <td>133.590292</td>\n",
       "      <td>151636.1965</td>\n",
       "      <td>3</td>\n",
       "      <td>0</td>\n",
       "      <td>0</td>\n",
       "      <td>88.059998</td>\n",
       "      <td>0.004492</td>\n",
       "      <td>-0.003057</td>\n",
       "      <td>...</td>\n",
       "      <td>4.435599</td>\n",
       "      <td>22.102633</td>\n",
       "      <td>0.0</td>\n",
       "      <td>1.666667</td>\n",
       "      <td>0.032222</td>\n",
       "      <td>0</td>\n",
       "      <td>1</td>\n",
       "      <td>0</td>\n",
       "      <td>1</td>\n",
       "      <td>0</td>\n",
       "    </tr>\n",
       "    <tr>\n",
       "      <th>2020-04-08</th>\n",
       "      <td>46209.176941</td>\n",
       "      <td>2020/4/8</td>\n",
       "      <td>589.466364</td>\n",
       "      <td>151636.1965</td>\n",
       "      <td>3</td>\n",
       "      <td>0</td>\n",
       "      <td>0</td>\n",
       "      <td>10.230000</td>\n",
       "      <td>0.008876</td>\n",
       "      <td>0.026015</td>\n",
       "      <td>...</td>\n",
       "      <td>4.435599</td>\n",
       "      <td>22.102633</td>\n",
       "      <td>0.0</td>\n",
       "      <td>1.666667</td>\n",
       "      <td>0.032222</td>\n",
       "      <td>0</td>\n",
       "      <td>1</td>\n",
       "      <td>0</td>\n",
       "      <td>1</td>\n",
       "      <td>0</td>\n",
       "    </tr>\n",
       "  </tbody>\n",
       "</table>\n",
       "<p>6997 rows × 29 columns</p>\n",
       "</div>"
      ],
      "text/plain": [
       "               Txn_Val_x        Date        Units       income  riskscore  \\\n",
       "Date                                                                        \n",
       "2019-08-26  23473.925401   2019/8/26    30.550818  324465.7233          3   \n",
       "2019-12-05  23473.925401   2019/12/5     0.000000  324465.7233          3   \n",
       "2019-12-16  23473.925401  2019/12/16  -238.537721  324465.7233          3   \n",
       "2020-03-02  23473.925401    2020/3/2   120.453956  324465.7233          3   \n",
       "2020-03-25  23473.925401   2020/3/25     0.000000  324465.7233          3   \n",
       "...                  ...         ...          ...          ...        ...   \n",
       "2020-01-23  46209.176941   2020/1/23 -1052.232630  151636.1965          3   \n",
       "2020-04-08  46209.176941    2020/4/8    78.010875  151636.1965          3   \n",
       "2020-01-20  46209.176941   2020/1/20   132.608883  151636.1965          3   \n",
       "2020-01-23  46209.176941   2020/1/23   133.590292  151636.1965          3   \n",
       "2020-04-08  46209.176941    2020/4/8   589.466364  151636.1965          3   \n",
       "\n",
       "            subscribed  opened      Price  return-N6M  return-HYG  ...  \\\n",
       "Date                                                               ...   \n",
       "2019-08-26           0       0  86.980003    0.000000    0.000000  ...   \n",
       "2019-12-05           0       0  86.809998    0.000000    0.001500  ...   \n",
       "2019-12-16           0       0  11.040000   -0.000905    0.001940  ...   \n",
       "2020-03-02           0       0  86.309998   -0.006189    0.003138  ...   \n",
       "2020-03-25           0       0  73.470001    0.010204    0.028128  ...   \n",
       "...                ...     ...        ...         ...         ...  ...   \n",
       "2020-01-23           0       0  11.180000    0.004492   -0.003057  ...   \n",
       "2020-04-08           0       0  77.300003    0.008876    0.026015  ...   \n",
       "2020-01-20           0       0  11.170000    0.000000   -0.001075  ...   \n",
       "2020-01-23           0       0  88.059998    0.004492   -0.003057  ...   \n",
       "2020-04-08           0       0  10.230000    0.008876    0.026015  ...   \n",
       "\n",
       "             vol_HYG    vol_IVV  TRate_y    FRSC_y  SCRate_y  gen_F  gen_M  \\\n",
       "Date                                                                         \n",
       "2019-08-26  4.435599  22.102633      0.0  1.500000  0.030000      0      1   \n",
       "2019-12-05  4.435599  22.102633      0.0  1.500000  0.030000      0      1   \n",
       "2019-12-16  4.435599  22.102633      0.0  1.500000  0.030000      0      1   \n",
       "2020-03-02  4.435599  22.102633      0.0  1.500000  0.030000      0      1   \n",
       "2020-03-25  4.435599  22.102633      0.0  1.500000  0.030000      0      1   \n",
       "...              ...        ...      ...       ...       ...    ...    ...   \n",
       "2020-01-23  4.435599  22.102633      0.0  1.666667  0.032222      0      1   \n",
       "2020-04-08  4.435599  22.102633      0.0  1.666667  0.032222      0      1   \n",
       "2020-01-20  4.435599  22.102633      0.0  1.666667  0.032222      0      1   \n",
       "2020-01-23  4.435599  22.102633      0.0  1.666667  0.032222      0      1   \n",
       "2020-04-08  4.435599  22.102633      0.0  1.666667  0.032222      0      1   \n",
       "\n",
       "            ed_Deg or abv  ed_H.Sch/Dip.  ed_Sec. or below  \n",
       "Date                                                        \n",
       "2019-08-26              1              0                 0  \n",
       "2019-12-05              1              0                 0  \n",
       "2019-12-16              1              0                 0  \n",
       "2020-03-02              1              0                 0  \n",
       "2020-03-25              1              0                 0  \n",
       "...                   ...            ...               ...  \n",
       "2020-01-23              0              1                 0  \n",
       "2020-04-08              0              1                 0  \n",
       "2020-01-20              0              1                 0  \n",
       "2020-01-23              0              1                 0  \n",
       "2020-04-08              0              1                 0  \n",
       "\n",
       "[6997 rows x 29 columns]"
      ]
     },
     "execution_count": 504,
     "metadata": {},
     "output_type": "execute_result"
    }
   ],
   "source": [
    "df_sn1"
   ]
  },
  {
   "cell_type": "code",
   "execution_count": 602,
   "metadata": {},
   "outputs": [],
   "source": [
    "df_sn1=df_sn1.rename(columns={'Txn_Val_x':'TotalTransactions'})"
   ]
  },
  {
   "cell_type": "code",
   "execution_count": 603,
   "metadata": {},
   "outputs": [],
   "source": [
    "df_trainDev=df_sn1['2019-08-26':'2020-04-01']"
   ]
  },
  {
   "cell_type": "code",
   "execution_count": 604,
   "metadata": {},
   "outputs": [],
   "source": [
    "df_testing=df_sn1['2020-04-01':'2020-04-08']"
   ]
  },
  {
   "cell_type": "code",
   "execution_count": 605,
   "metadata": {
    "colab": {},
    "colab_type": "code",
    "id": "ciGt_W30mQug"
   },
   "outputs": [],
   "source": [
    "df_trainDev.to_csv('Txn_Record_[delta_AUM]_[2019-08-26]_[2020-04-01].csv')"
   ]
  },
  {
   "cell_type": "code",
   "execution_count": 606,
   "metadata": {},
   "outputs": [],
   "source": [
    "df_testing.to_csv('Txn_Record_[delta_AUM]_[2019-04-01]_[2020-04-08].csv')"
   ]
  },
  {
   "cell_type": "markdown",
   "metadata": {
    "colab_type": "text",
    "id": "EipjbQkOqZw-"
   },
   "source": [
    "\n",
    "\n",
    "**Response variable 2) Change in AUM per transaction per investor**"
   ]
  },
  {
   "cell_type": "markdown",
   "metadata": {
    "colab_type": "text",
    "id": "0c7YILptqbF-"
   },
   "source": [
    "**Apply \"Groupby\" based on investor_id**"
   ]
  },
  {
   "cell_type": "code",
   "execution_count": null,
   "metadata": {
    "colab": {},
    "colab_type": "code",
    "id": "QxrajuherYoj"
   },
   "outputs": [],
   "source": [
    "keys=[df['investor_id']]"
   ]
  },
  {
   "cell_type": "code",
   "execution_count": null,
   "metadata": {
    "colab": {},
    "colab_type": "code",
    "id": "3ZAiZ5xdrfE3"
   },
   "outputs": [],
   "source": [
    "grouped=df[df['trd_date'] != '2019/8/25'].groupby(keys)"
   ]
  },
  {
   "cell_type": "code",
   "execution_count": 516,
   "metadata": {
    "colab": {},
    "colab_type": "code",
    "id": "OQjlsZhAxjTq"
   },
   "outputs": [],
   "source": [
    "df_avgTxn=(grouped.sum()/grouped.count())['Txn_Val']"
   ]
  },
  {
   "cell_type": "code",
   "execution_count": 519,
   "metadata": {},
   "outputs": [],
   "source": [
    "df_iid2=pd.merge(df_avgTxn,df_iid,on='investor_id')"
   ]
  },
  {
   "cell_type": "code",
   "execution_count": 524,
   "metadata": {},
   "outputs": [],
   "source": [
    "df_sn2=pd.merge(df_iid2,df_iid1,on='investor_id')"
   ]
  },
  {
   "cell_type": "code",
   "execution_count": 535,
   "metadata": {},
   "outputs": [
    {
     "data": {
      "text/html": [
       "<div>\n",
       "<style scoped>\n",
       "    .dataframe tbody tr th:only-of-type {\n",
       "        vertical-align: middle;\n",
       "    }\n",
       "\n",
       "    .dataframe tbody tr th {\n",
       "        vertical-align: top;\n",
       "    }\n",
       "\n",
       "    .dataframe thead th {\n",
       "        text-align: right;\n",
       "    }\n",
       "</style>\n",
       "<table border=\"1\" class=\"dataframe\">\n",
       "  <thead>\n",
       "    <tr style=\"text-align: right;\">\n",
       "      <th></th>\n",
       "      <th>investor_id</th>\n",
       "      <th>Txn_Val</th>\n",
       "      <th>Date</th>\n",
       "      <th>FID1</th>\n",
       "      <th>Units</th>\n",
       "      <th>income</th>\n",
       "      <th>riskscore</th>\n",
       "      <th>subscribed</th>\n",
       "      <th>opened</th>\n",
       "      <th>Price</th>\n",
       "      <th>...</th>\n",
       "      <th>vol_HYG</th>\n",
       "      <th>vol_IVV</th>\n",
       "      <th>TRate_y</th>\n",
       "      <th>FRSC_y</th>\n",
       "      <th>SCRate_y</th>\n",
       "      <th>gen_F</th>\n",
       "      <th>gen_M</th>\n",
       "      <th>ed_Deg or abv</th>\n",
       "      <th>ed_H.Sch/Dip.</th>\n",
       "      <th>ed_Sec. or below</th>\n",
       "    </tr>\n",
       "  </thead>\n",
       "  <tbody>\n",
       "    <tr>\n",
       "      <th>0</th>\n",
       "      <td>10051</td>\n",
       "      <td>2347.39254</td>\n",
       "      <td>2019/8/26</td>\n",
       "      <td>HYG</td>\n",
       "      <td>30.550818</td>\n",
       "      <td>324465.7233</td>\n",
       "      <td>3</td>\n",
       "      <td>0</td>\n",
       "      <td>0</td>\n",
       "      <td>86.980003</td>\n",
       "      <td>...</td>\n",
       "      <td>4.435599</td>\n",
       "      <td>22.102633</td>\n",
       "      <td>0.0</td>\n",
       "      <td>1.5</td>\n",
       "      <td>0.03</td>\n",
       "      <td>0</td>\n",
       "      <td>1</td>\n",
       "      <td>1</td>\n",
       "      <td>0</td>\n",
       "      <td>0</td>\n",
       "    </tr>\n",
       "    <tr>\n",
       "      <th>1</th>\n",
       "      <td>10051</td>\n",
       "      <td>2347.39254</td>\n",
       "      <td>2019/12/5</td>\n",
       "      <td>HYG</td>\n",
       "      <td>0.000000</td>\n",
       "      <td>324465.7233</td>\n",
       "      <td>3</td>\n",
       "      <td>0</td>\n",
       "      <td>0</td>\n",
       "      <td>86.809998</td>\n",
       "      <td>...</td>\n",
       "      <td>4.435599</td>\n",
       "      <td>22.102633</td>\n",
       "      <td>0.0</td>\n",
       "      <td>1.5</td>\n",
       "      <td>0.03</td>\n",
       "      <td>0</td>\n",
       "      <td>1</td>\n",
       "      <td>1</td>\n",
       "      <td>0</td>\n",
       "      <td>0</td>\n",
       "    </tr>\n",
       "    <tr>\n",
       "      <th>2</th>\n",
       "      <td>10051</td>\n",
       "      <td>2347.39254</td>\n",
       "      <td>2019/12/16</td>\n",
       "      <td>N6M</td>\n",
       "      <td>-238.537721</td>\n",
       "      <td>324465.7233</td>\n",
       "      <td>3</td>\n",
       "      <td>0</td>\n",
       "      <td>0</td>\n",
       "      <td>11.040000</td>\n",
       "      <td>...</td>\n",
       "      <td>4.435599</td>\n",
       "      <td>22.102633</td>\n",
       "      <td>0.0</td>\n",
       "      <td>1.5</td>\n",
       "      <td>0.03</td>\n",
       "      <td>0</td>\n",
       "      <td>1</td>\n",
       "      <td>1</td>\n",
       "      <td>0</td>\n",
       "      <td>0</td>\n",
       "    </tr>\n",
       "    <tr>\n",
       "      <th>3</th>\n",
       "      <td>10051</td>\n",
       "      <td>2347.39254</td>\n",
       "      <td>2020/3/2</td>\n",
       "      <td>HYG</td>\n",
       "      <td>120.453956</td>\n",
       "      <td>324465.7233</td>\n",
       "      <td>3</td>\n",
       "      <td>0</td>\n",
       "      <td>0</td>\n",
       "      <td>86.309998</td>\n",
       "      <td>...</td>\n",
       "      <td>4.435599</td>\n",
       "      <td>22.102633</td>\n",
       "      <td>0.0</td>\n",
       "      <td>1.5</td>\n",
       "      <td>0.03</td>\n",
       "      <td>0</td>\n",
       "      <td>1</td>\n",
       "      <td>1</td>\n",
       "      <td>0</td>\n",
       "      <td>0</td>\n",
       "    </tr>\n",
       "    <tr>\n",
       "      <th>4</th>\n",
       "      <td>10051</td>\n",
       "      <td>2347.39254</td>\n",
       "      <td>2020/3/25</td>\n",
       "      <td>HYG</td>\n",
       "      <td>0.000000</td>\n",
       "      <td>324465.7233</td>\n",
       "      <td>3</td>\n",
       "      <td>0</td>\n",
       "      <td>0</td>\n",
       "      <td>73.470001</td>\n",
       "      <td>...</td>\n",
       "      <td>4.435599</td>\n",
       "      <td>22.102633</td>\n",
       "      <td>0.0</td>\n",
       "      <td>1.5</td>\n",
       "      <td>0.03</td>\n",
       "      <td>0</td>\n",
       "      <td>1</td>\n",
       "      <td>1</td>\n",
       "      <td>0</td>\n",
       "      <td>0</td>\n",
       "    </tr>\n",
       "  </tbody>\n",
       "</table>\n",
       "<p>5 rows × 31 columns</p>\n",
       "</div>"
      ],
      "text/plain": [
       "   investor_id     Txn_Val        Date FID1       Units       income  \\\n",
       "0        10051  2347.39254   2019/8/26  HYG   30.550818  324465.7233   \n",
       "1        10051  2347.39254   2019/12/5  HYG    0.000000  324465.7233   \n",
       "2        10051  2347.39254  2019/12/16  N6M -238.537721  324465.7233   \n",
       "3        10051  2347.39254    2020/3/2  HYG  120.453956  324465.7233   \n",
       "4        10051  2347.39254   2020/3/25  HYG    0.000000  324465.7233   \n",
       "\n",
       "   riskscore  subscribed  opened      Price  ...   vol_HYG    vol_IVV  \\\n",
       "0          3           0       0  86.980003  ...  4.435599  22.102633   \n",
       "1          3           0       0  86.809998  ...  4.435599  22.102633   \n",
       "2          3           0       0  11.040000  ...  4.435599  22.102633   \n",
       "3          3           0       0  86.309998  ...  4.435599  22.102633   \n",
       "4          3           0       0  73.470001  ...  4.435599  22.102633   \n",
       "\n",
       "   TRate_y  FRSC_y  SCRate_y  gen_F gen_M  ed_Deg or abv  ed_H.Sch/Dip.  \\\n",
       "0      0.0     1.5      0.03      0     1              1              0   \n",
       "1      0.0     1.5      0.03      0     1              1              0   \n",
       "2      0.0     1.5      0.03      0     1              1              0   \n",
       "3      0.0     1.5      0.03      0     1              1              0   \n",
       "4      0.0     1.5      0.03      0     1              1              0   \n",
       "\n",
       "   ed_Sec. or below  \n",
       "0                 0  \n",
       "1                 0  \n",
       "2                 0  \n",
       "3                 0  \n",
       "4                 0  \n",
       "\n",
       "[5 rows x 31 columns]"
      ]
     },
     "execution_count": 535,
     "metadata": {},
     "output_type": "execute_result"
    }
   ],
   "source": [
    "df_sn2.head()"
   ]
  },
  {
   "cell_type": "code",
   "execution_count": 526,
   "metadata": {},
   "outputs": [],
   "source": [
    "del df_sn2['Txn_Val_x']"
   ]
  },
  {
   "cell_type": "code",
   "execution_count": 536,
   "metadata": {},
   "outputs": [],
   "source": [
    "del df_sn2['investor_id']"
   ]
  },
  {
   "cell_type": "code",
   "execution_count": 537,
   "metadata": {},
   "outputs": [],
   "source": [
    "del df_sn2['FID1']"
   ]
  },
  {
   "cell_type": "code",
   "execution_count": 596,
   "metadata": {},
   "outputs": [],
   "source": [
    "df_sn2=df_sn2.rename(columns={'Txn_Val':'AverageTransaction'})"
   ]
  },
  {
   "cell_type": "code",
   "execution_count": 538,
   "metadata": {},
   "outputs": [],
   "source": [
    "df_sn2.index=pd.to_datetime(df_sn2['Date'])"
   ]
  },
  {
   "cell_type": "code",
   "execution_count": 597,
   "metadata": {},
   "outputs": [],
   "source": [
    "df_2TranDev=df_sn2['2019-08-26':'2020-04-01']"
   ]
  },
  {
   "cell_type": "code",
   "execution_count": 598,
   "metadata": {},
   "outputs": [],
   "source": [
    "df_2Testing=df_sn2['2020-04-01':'2020-04-08']"
   ]
  },
  {
   "cell_type": "code",
   "execution_count": 599,
   "metadata": {},
   "outputs": [],
   "source": [
    "df_2TranDev.to_csv('Txn_Record_[avg_AUM]_[2019-08-26]_[2020-04-01].csv')"
   ]
  },
  {
   "cell_type": "code",
   "execution_count": 600,
   "metadata": {},
   "outputs": [],
   "source": [
    "df_2Testing.to_csv('Txn_Record_[avg_AUM]_[2019-04-01]_[2020-04-08].csv')"
   ]
  },
  {
   "cell_type": "markdown",
   "metadata": {
    "colab_type": "text",
    "id": "jPxt1hhTqbs7"
   },
   "source": [
    "[Pseudo code] Keep only investor_id and Txn_Val of df_iid because it does not make sense to apply .sum() to the rest of the columns. "
   ]
  },
  {
   "cell_type": "markdown",
   "metadata": {
    "colab_type": "text",
    "id": "93dzPfxhqcPI"
   },
   "source": [
    "[Pseudo code] Create df_iid2 = grouped.count().  This captures the number of transactions made by each investor.  Use the count to divide by the 'Txn_Val' field of df_iid to get a new field 'Avg_Txn_Val' - the desired response variable.  Use this new field to replace 'Txn_Val'.   "
   ]
  },
  {
   "cell_type": "markdown",
   "metadata": {
    "colab_type": "text",
    "id": "2M58iy0hqb9W"
   },
   "source": [
    "[Pseudo code] The rest of the step is the same as that for response variable 1."
   ]
  },
  {
   "cell_type": "markdown",
   "metadata": {
    "colab_type": "text",
    "id": "yJEU_UZJ0Rz9"
   },
   "source": [
    "**Response variable 3) Transaction count per investor**"
   ]
  },
  {
   "cell_type": "markdown",
   "metadata": {
    "colab_type": "text",
    "id": "pjE2w7VT0ez0"
   },
   "source": [
    "**Apply \"Groupby\" based on investor_id**"
   ]
  },
  {
   "cell_type": "code",
   "execution_count": null,
   "metadata": {
    "colab": {},
    "colab_type": "code",
    "id": "6Rnq2Hin1SWR"
   },
   "outputs": [],
   "source": [
    "keys=[df['investor_id']]"
   ]
  },
  {
   "cell_type": "code",
   "execution_count": null,
   "metadata": {
    "colab": {},
    "colab_type": "code",
    "id": "JGuzivEL1Stx"
   },
   "outputs": [],
   "source": [
    "grouped=df[df['trd_date'] != '2019/8/25'].groupby(keys)"
   ]
  },
  {
   "cell_type": "code",
   "execution_count": 552,
   "metadata": {},
   "outputs": [],
   "source": [
    "df_iid3=pd.merge(df_txnct,df_iid,on='investor_id')"
   ]
  },
  {
   "cell_type": "code",
   "execution_count": 553,
   "metadata": {},
   "outputs": [
    {
     "data": {
      "text/plain": [
       "Index(['investor_id', 'HYG_txn_cnt_x', 'IVV_txn_cnt_x', 'N6M_txn_cnt_x',\n",
       "       'Txn_Val_x', 'Date', 'FID1', 'Units', 'Gender', 'income', 'education',\n",
       "       'riskscore', 'subscribed', 'opened', 'SCRate', 'TRate', 'FRSC', 'Price',\n",
       "       'return-N6M', 'return-HYG', 'return-IVV', 'HYG_txn_cnt_y',\n",
       "       'IVV_txn_cnt_y', 'N6M_txn_cnt_y', 'DATE', 'rtn-N6M', 'rtn-HYG',\n",
       "       'rtn-IVV', 'vol_N6M', 'vol_HYG', 'vol_IVV'],\n",
       "      dtype='object')"
      ]
     },
     "execution_count": 553,
     "metadata": {},
     "output_type": "execute_result"
    }
   ],
   "source": [
    "df_iid3.columns"
   ]
  },
  {
   "cell_type": "code",
   "execution_count": 554,
   "metadata": {},
   "outputs": [],
   "source": [
    "df_sn3=pd.merge(df_iid3,df_iid1,on='investor_id')"
   ]
  },
  {
   "cell_type": "code",
   "execution_count": 556,
   "metadata": {},
   "outputs": [],
   "source": [
    "del df_sn3['HYG_txn_cnt_y']"
   ]
  },
  {
   "cell_type": "code",
   "execution_count": 557,
   "metadata": {},
   "outputs": [],
   "source": [
    "del df_sn3['IVV_txn_cnt_y']"
   ]
  },
  {
   "cell_type": "code",
   "execution_count": 559,
   "metadata": {},
   "outputs": [],
   "source": [
    "del df_sn3['N6M_txn_cnt_y']"
   ]
  },
  {
   "cell_type": "code",
   "execution_count": 561,
   "metadata": {},
   "outputs": [],
   "source": [
    "del df_sn3['Txn_Val_x']"
   ]
  },
  {
   "cell_type": "code",
   "execution_count": 574,
   "metadata": {},
   "outputs": [
    {
     "data": {
      "text/html": [
       "<div>\n",
       "<style scoped>\n",
       "    .dataframe tbody tr th:only-of-type {\n",
       "        vertical-align: middle;\n",
       "    }\n",
       "\n",
       "    .dataframe tbody tr th {\n",
       "        vertical-align: top;\n",
       "    }\n",
       "\n",
       "    .dataframe thead th {\n",
       "        text-align: right;\n",
       "    }\n",
       "</style>\n",
       "<table border=\"1\" class=\"dataframe\">\n",
       "  <thead>\n",
       "    <tr style=\"text-align: right;\">\n",
       "      <th></th>\n",
       "      <th>investor_id</th>\n",
       "      <th>HYG_txn_cnt_x</th>\n",
       "      <th>IVV_txn_cnt_x</th>\n",
       "      <th>N6M_txn_cnt_x</th>\n",
       "      <th>Date</th>\n",
       "      <th>FID1</th>\n",
       "      <th>Units</th>\n",
       "      <th>income</th>\n",
       "      <th>riskscore</th>\n",
       "      <th>subscribed</th>\n",
       "      <th>...</th>\n",
       "      <th>vol_HYG</th>\n",
       "      <th>vol_IVV</th>\n",
       "      <th>TRate_y</th>\n",
       "      <th>FRSC_y</th>\n",
       "      <th>SCRate_y</th>\n",
       "      <th>gen_F</th>\n",
       "      <th>gen_M</th>\n",
       "      <th>ed_Deg or abv</th>\n",
       "      <th>ed_H.Sch/Dip.</th>\n",
       "      <th>ed_Sec. or below</th>\n",
       "    </tr>\n",
       "  </thead>\n",
       "  <tbody>\n",
       "    <tr>\n",
       "      <th>0</th>\n",
       "      <td>10051</td>\n",
       "      <td>10</td>\n",
       "      <td>10</td>\n",
       "      <td>10</td>\n",
       "      <td>2019/8/26</td>\n",
       "      <td>HYG</td>\n",
       "      <td>30.550818</td>\n",
       "      <td>324465.7233</td>\n",
       "      <td>3</td>\n",
       "      <td>0</td>\n",
       "      <td>...</td>\n",
       "      <td>4.435599</td>\n",
       "      <td>22.102633</td>\n",
       "      <td>0.0</td>\n",
       "      <td>1.5</td>\n",
       "      <td>0.03</td>\n",
       "      <td>0</td>\n",
       "      <td>1</td>\n",
       "      <td>1</td>\n",
       "      <td>0</td>\n",
       "      <td>0</td>\n",
       "    </tr>\n",
       "    <tr>\n",
       "      <th>1</th>\n",
       "      <td>10051</td>\n",
       "      <td>10</td>\n",
       "      <td>10</td>\n",
       "      <td>10</td>\n",
       "      <td>2019/12/5</td>\n",
       "      <td>HYG</td>\n",
       "      <td>0.000000</td>\n",
       "      <td>324465.7233</td>\n",
       "      <td>3</td>\n",
       "      <td>0</td>\n",
       "      <td>...</td>\n",
       "      <td>4.435599</td>\n",
       "      <td>22.102633</td>\n",
       "      <td>0.0</td>\n",
       "      <td>1.5</td>\n",
       "      <td>0.03</td>\n",
       "      <td>0</td>\n",
       "      <td>1</td>\n",
       "      <td>1</td>\n",
       "      <td>0</td>\n",
       "      <td>0</td>\n",
       "    </tr>\n",
       "    <tr>\n",
       "      <th>2</th>\n",
       "      <td>10051</td>\n",
       "      <td>10</td>\n",
       "      <td>10</td>\n",
       "      <td>10</td>\n",
       "      <td>2019/12/16</td>\n",
       "      <td>N6M</td>\n",
       "      <td>-238.537721</td>\n",
       "      <td>324465.7233</td>\n",
       "      <td>3</td>\n",
       "      <td>0</td>\n",
       "      <td>...</td>\n",
       "      <td>4.435599</td>\n",
       "      <td>22.102633</td>\n",
       "      <td>0.0</td>\n",
       "      <td>1.5</td>\n",
       "      <td>0.03</td>\n",
       "      <td>0</td>\n",
       "      <td>1</td>\n",
       "      <td>1</td>\n",
       "      <td>0</td>\n",
       "      <td>0</td>\n",
       "    </tr>\n",
       "    <tr>\n",
       "      <th>3</th>\n",
       "      <td>10051</td>\n",
       "      <td>10</td>\n",
       "      <td>10</td>\n",
       "      <td>10</td>\n",
       "      <td>2020/3/2</td>\n",
       "      <td>HYG</td>\n",
       "      <td>120.453956</td>\n",
       "      <td>324465.7233</td>\n",
       "      <td>3</td>\n",
       "      <td>0</td>\n",
       "      <td>...</td>\n",
       "      <td>4.435599</td>\n",
       "      <td>22.102633</td>\n",
       "      <td>0.0</td>\n",
       "      <td>1.5</td>\n",
       "      <td>0.03</td>\n",
       "      <td>0</td>\n",
       "      <td>1</td>\n",
       "      <td>1</td>\n",
       "      <td>0</td>\n",
       "      <td>0</td>\n",
       "    </tr>\n",
       "    <tr>\n",
       "      <th>4</th>\n",
       "      <td>10051</td>\n",
       "      <td>10</td>\n",
       "      <td>10</td>\n",
       "      <td>10</td>\n",
       "      <td>2020/3/25</td>\n",
       "      <td>HYG</td>\n",
       "      <td>0.000000</td>\n",
       "      <td>324465.7233</td>\n",
       "      <td>3</td>\n",
       "      <td>0</td>\n",
       "      <td>...</td>\n",
       "      <td>4.435599</td>\n",
       "      <td>22.102633</td>\n",
       "      <td>0.0</td>\n",
       "      <td>1.5</td>\n",
       "      <td>0.03</td>\n",
       "      <td>0</td>\n",
       "      <td>1</td>\n",
       "      <td>1</td>\n",
       "      <td>0</td>\n",
       "      <td>0</td>\n",
       "    </tr>\n",
       "  </tbody>\n",
       "</table>\n",
       "<p>5 rows × 30 columns</p>\n",
       "</div>"
      ],
      "text/plain": [
       "   investor_id  HYG_txn_cnt_x  IVV_txn_cnt_x  N6M_txn_cnt_x        Date FID1  \\\n",
       "0        10051             10             10             10   2019/8/26  HYG   \n",
       "1        10051             10             10             10   2019/12/5  HYG   \n",
       "2        10051             10             10             10  2019/12/16  N6M   \n",
       "3        10051             10             10             10    2020/3/2  HYG   \n",
       "4        10051             10             10             10   2020/3/25  HYG   \n",
       "\n",
       "        Units       income  riskscore  subscribed  ...   vol_HYG    vol_IVV  \\\n",
       "0   30.550818  324465.7233          3           0  ...  4.435599  22.102633   \n",
       "1    0.000000  324465.7233          3           0  ...  4.435599  22.102633   \n",
       "2 -238.537721  324465.7233          3           0  ...  4.435599  22.102633   \n",
       "3  120.453956  324465.7233          3           0  ...  4.435599  22.102633   \n",
       "4    0.000000  324465.7233          3           0  ...  4.435599  22.102633   \n",
       "\n",
       "   TRate_y  FRSC_y  SCRate_y gen_F  gen_M  ed_Deg or abv  ed_H.Sch/Dip.  \\\n",
       "0      0.0     1.5      0.03     0      1              1              0   \n",
       "1      0.0     1.5      0.03     0      1              1              0   \n",
       "2      0.0     1.5      0.03     0      1              1              0   \n",
       "3      0.0     1.5      0.03     0      1              1              0   \n",
       "4      0.0     1.5      0.03     0      1              1              0   \n",
       "\n",
       "   ed_Sec. or below  \n",
       "0                 0  \n",
       "1                 0  \n",
       "2                 0  \n",
       "3                 0  \n",
       "4                 0  \n",
       "\n",
       "[5 rows x 30 columns]"
      ]
     },
     "execution_count": 574,
     "metadata": {},
     "output_type": "execute_result"
    }
   ],
   "source": [
    "df_sn3.head()"
   ]
  },
  {
   "cell_type": "code",
   "execution_count": 587,
   "metadata": {},
   "outputs": [],
   "source": [
    "df_sn3['TransactionCount']=df_sn3.HYG_txn_cnt_x+df_sn3.IVV_txn_cnt_x+df_sn3.N6M_txn_cnt_x"
   ]
  },
  {
   "cell_type": "code",
   "execution_count": 588,
   "metadata": {},
   "outputs": [],
   "source": [
    "del df_sn3['HYG_txn_cnt_x']"
   ]
  },
  {
   "cell_type": "code",
   "execution_count": 589,
   "metadata": {},
   "outputs": [],
   "source": [
    "del df_sn3['IVV_txn_cnt_x']"
   ]
  },
  {
   "cell_type": "code",
   "execution_count": 590,
   "metadata": {},
   "outputs": [],
   "source": [
    "del df_sn3['N6M_txn_cnt_x']"
   ]
  },
  {
   "cell_type": "code",
   "execution_count": 575,
   "metadata": {},
   "outputs": [],
   "source": [
    "df_sn3.index=pd.to_datetime(df_sn3['Date'])"
   ]
  },
  {
   "cell_type": "code",
   "execution_count": 576,
   "metadata": {},
   "outputs": [],
   "source": [
    "del df_sn3['investor_id']"
   ]
  },
  {
   "cell_type": "code",
   "execution_count": 577,
   "metadata": {},
   "outputs": [],
   "source": [
    "del df_sn3['FID1']"
   ]
  },
  {
   "cell_type": "code",
   "execution_count": 591,
   "metadata": {},
   "outputs": [],
   "source": [
    "df_3TranDev=df_sn3['2019-08-26':'2020-04-01']"
   ]
  },
  {
   "cell_type": "code",
   "execution_count": 592,
   "metadata": {},
   "outputs": [],
   "source": [
    "df_3Testing=df_sn3['2020-04-01':'2020-04-08']"
   ]
  },
  {
   "cell_type": "code",
   "execution_count": 593,
   "metadata": {},
   "outputs": [],
   "source": [
    "df_3TranDev.to_csv('Txn_Record_[count_AUM]_[2019-08-26]_[2020-04-01].csv')"
   ]
  },
  {
   "cell_type": "code",
   "execution_count": 594,
   "metadata": {},
   "outputs": [],
   "source": [
    "df_3Testing.to_csv('Txn_Record_[count_AUM]_[2019-04-01]_[2020-04-08].csv')"
   ]
  },
  {
   "cell_type": "markdown",
   "metadata": {
    "colab_type": "text",
    "id": "o7gBk4sCqbbe"
   },
   "source": [
    "By aggregating as .count() this already gives the desired response variable.  Add the remaining columns as per the response variable 1."
   ]
  },
  {
   "cell_type": "code",
   "execution_count": null,
   "metadata": {
    "colab": {},
    "colab_type": "code",
    "id": "f8GU6VX5GVhG"
   },
   "outputs": [],
   "source": []
  },
  {
   "cell_type": "code",
   "execution_count": null,
   "metadata": {
    "colab": {},
    "colab_type": "code",
    "id": "KdHqpwmXGVhJ"
   },
   "outputs": [],
   "source": []
  },
  {
   "cell_type": "code",
   "execution_count": null,
   "metadata": {
    "colab": {},
    "colab_type": "code",
    "id": "p0i1ZpYEGVhL"
   },
   "outputs": [],
   "source": []
  },
  {
   "cell_type": "code",
   "execution_count": null,
   "metadata": {
    "colab": {},
    "colab_type": "code",
    "id": "XwwP353tGVhN"
   },
   "outputs": [],
   "source": []
  },
  {
   "cell_type": "code",
   "execution_count": null,
   "metadata": {
    "colab": {},
    "colab_type": "code",
    "id": "-0MY_xuAGVhP"
   },
   "outputs": [],
   "source": []
  }
 ],
 "metadata": {
  "colab": {
   "collapsed_sections": [],
   "name": "transaction_record cleaning2.ipynb",
   "provenance": [],
   "toc_visible": true
  },
  "kernelspec": {
   "display_name": "Python 3",
   "language": "python",
   "name": "python3"
  },
  "language_info": {
   "codemirror_mode": {
    "name": "ipython",
    "version": 3
   },
   "file_extension": ".py",
   "mimetype": "text/x-python",
   "name": "python",
   "nbconvert_exporter": "python",
   "pygments_lexer": "ipython3",
   "version": "3.8.3"
  }
 },
 "nbformat": 4,
 "nbformat_minor": 1
}
