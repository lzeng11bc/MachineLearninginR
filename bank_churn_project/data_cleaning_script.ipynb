{
 "cells": [
  {
   "cell_type": "code",
   "execution_count": 1,
   "metadata": {},
   "outputs": [],
   "source": [
    "import pandas as pd\n",
    "import numpy as np\n",
    "import os"
   ]
  },
  {
   "cell_type": "markdown",
   "metadata": {},
   "source": [
    "read the raw data"
   ]
  },
  {
   "cell_type": "code",
   "execution_count": 3,
   "metadata": {},
   "outputs": [],
   "source": [
    "df=pd.read_csv('total_tran_final.csv')"
   ]
  },
  {
   "cell_type": "code",
   "execution_count": 4,
   "metadata": {},
   "outputs": [
    {
     "data": {
      "text/html": [
       "<div>\n",
       "<style scoped>\n",
       "    .dataframe tbody tr th:only-of-type {\n",
       "        vertical-align: middle;\n",
       "    }\n",
       "\n",
       "    .dataframe tbody tr th {\n",
       "        vertical-align: top;\n",
       "    }\n",
       "\n",
       "    .dataframe thead th {\n",
       "        text-align: right;\n",
       "    }\n",
       "</style>\n",
       "<table border=\"1\" class=\"dataframe\">\n",
       "  <thead>\n",
       "    <tr style=\"text-align: right;\">\n",
       "      <th></th>\n",
       "      <th>Unnamed: 0</th>\n",
       "      <th>trd_date</th>\n",
       "      <th>fund_id</th>\n",
       "      <th>investor_id</th>\n",
       "      <th>education</th>\n",
       "      <th>intermediaryid</th>\n",
       "      <th>riskscore</th>\n",
       "      <th>SCRate</th>\n",
       "      <th>TrailerRate</th>\n",
       "      <th>FundRiskScore</th>\n",
       "      <th>...</th>\n",
       "      <th>return-N6M</th>\n",
       "      <th>return-HYG</th>\n",
       "      <th>return-IVV</th>\n",
       "      <th>AUM</th>\n",
       "      <th>Open</th>\n",
       "      <th>Gender</th>\n",
       "      <th>age</th>\n",
       "      <th>income</th>\n",
       "      <th>counts</th>\n",
       "      <th>sub</th>\n",
       "    </tr>\n",
       "  </thead>\n",
       "  <tbody>\n",
       "    <tr>\n",
       "      <th>0</th>\n",
       "      <td>0</td>\n",
       "      <td>2019/8/26</td>\n",
       "      <td>HYG</td>\n",
       "      <td>55887</td>\n",
       "      <td>H.Sch/Dip.</td>\n",
       "      <td>6</td>\n",
       "      <td>5</td>\n",
       "      <td>0.03</td>\n",
       "      <td>0.0</td>\n",
       "      <td>M</td>\n",
       "      <td>...</td>\n",
       "      <td>0.000000</td>\n",
       "      <td>0.000000</td>\n",
       "      <td>0.000000</td>\n",
       "      <td>396.172878</td>\n",
       "      <td>N</td>\n",
       "      <td>M</td>\n",
       "      <td>31</td>\n",
       "      <td>89953.079278</td>\n",
       "      <td>4.554758</td>\n",
       "      <td>N</td>\n",
       "    </tr>\n",
       "    <tr>\n",
       "      <th>1</th>\n",
       "      <td>1</td>\n",
       "      <td>2019/10/9</td>\n",
       "      <td>HYG</td>\n",
       "      <td>55887</td>\n",
       "      <td>H.Sch/Dip.</td>\n",
       "      <td>6</td>\n",
       "      <td>5</td>\n",
       "      <td>0.03</td>\n",
       "      <td>0.0</td>\n",
       "      <td>M</td>\n",
       "      <td>...</td>\n",
       "      <td>0.000000</td>\n",
       "      <td>0.003022</td>\n",
       "      <td>0.009479</td>\n",
       "      <td>3820.921478</td>\n",
       "      <td>Y</td>\n",
       "      <td>M</td>\n",
       "      <td>33</td>\n",
       "      <td>103063.060048</td>\n",
       "      <td>44.274871</td>\n",
       "      <td>Y</td>\n",
       "    </tr>\n",
       "    <tr>\n",
       "      <th>2</th>\n",
       "      <td>2</td>\n",
       "      <td>2019/11/19</td>\n",
       "      <td>HYG</td>\n",
       "      <td>55887</td>\n",
       "      <td>H.Sch/Dip.</td>\n",
       "      <td>6</td>\n",
       "      <td>5</td>\n",
       "      <td>0.03</td>\n",
       "      <td>0.0</td>\n",
       "      <td>M</td>\n",
       "      <td>...</td>\n",
       "      <td>-0.003604</td>\n",
       "      <td>-0.003570</td>\n",
       "      <td>-0.000223</td>\n",
       "      <td>2003.354360</td>\n",
       "      <td>Y</td>\n",
       "      <td>M</td>\n",
       "      <td>42</td>\n",
       "      <td>71597.614595</td>\n",
       "      <td>23.154813</td>\n",
       "      <td>Y</td>\n",
       "    </tr>\n",
       "    <tr>\n",
       "      <th>3</th>\n",
       "      <td>3</td>\n",
       "      <td>2019/12/18</td>\n",
       "      <td>HYG</td>\n",
       "      <td>55887</td>\n",
       "      <td>H.Sch/Dip.</td>\n",
       "      <td>6</td>\n",
       "      <td>5</td>\n",
       "      <td>0.03</td>\n",
       "      <td>0.0</td>\n",
       "      <td>M</td>\n",
       "      <td>...</td>\n",
       "      <td>0.006375</td>\n",
       "      <td>0.001817</td>\n",
       "      <td>0.000063</td>\n",
       "      <td>1657.233641</td>\n",
       "      <td>Y</td>\n",
       "      <td>F</td>\n",
       "      <td>47</td>\n",
       "      <td>53341.786595</td>\n",
       "      <td>18.787367</td>\n",
       "      <td>Y</td>\n",
       "    </tr>\n",
       "    <tr>\n",
       "      <th>4</th>\n",
       "      <td>4</td>\n",
       "      <td>2019/12/27</td>\n",
       "      <td>HYG</td>\n",
       "      <td>55887</td>\n",
       "      <td>H.Sch/Dip.</td>\n",
       "      <td>6</td>\n",
       "      <td>5</td>\n",
       "      <td>0.03</td>\n",
       "      <td>0.0</td>\n",
       "      <td>M</td>\n",
       "      <td>...</td>\n",
       "      <td>0.000000</td>\n",
       "      <td>-0.000455</td>\n",
       "      <td>-0.000185</td>\n",
       "      <td>4161.822987</td>\n",
       "      <td>Y</td>\n",
       "      <td>M</td>\n",
       "      <td>46</td>\n",
       "      <td>75276.185086</td>\n",
       "      <td>47.336477</td>\n",
       "      <td>Y</td>\n",
       "    </tr>\n",
       "  </tbody>\n",
       "</table>\n",
       "<p>5 rows × 23 columns</p>\n",
       "</div>"
      ],
      "text/plain": [
       "   Unnamed: 0    trd_date fund_id  investor_id   education  intermediaryid  \\\n",
       "0           0   2019/8/26     HYG        55887  H.Sch/Dip.               6   \n",
       "1           1   2019/10/9     HYG        55887  H.Sch/Dip.               6   \n",
       "2           2  2019/11/19     HYG        55887  H.Sch/Dip.               6   \n",
       "3           3  2019/12/18     HYG        55887  H.Sch/Dip.               6   \n",
       "4           4  2019/12/27     HYG        55887  H.Sch/Dip.               6   \n",
       "\n",
       "   riskscore  SCRate  TrailerRate FundRiskScore  ... return-N6M  return-HYG  \\\n",
       "0          5    0.03          0.0             M  ...   0.000000    0.000000   \n",
       "1          5    0.03          0.0             M  ...   0.000000    0.003022   \n",
       "2          5    0.03          0.0             M  ...  -0.003604   -0.003570   \n",
       "3          5    0.03          0.0             M  ...   0.006375    0.001817   \n",
       "4          5    0.03          0.0             M  ...   0.000000   -0.000455   \n",
       "\n",
       "   return-IVV          AUM  Open  Gender  age         income     counts  sub  \n",
       "0    0.000000   396.172878     N       M   31   89953.079278   4.554758    N  \n",
       "1    0.009479  3820.921478     Y       M   33  103063.060048  44.274871    Y  \n",
       "2   -0.000223  2003.354360     Y       M   42   71597.614595  23.154813    Y  \n",
       "3    0.000063  1657.233641     Y       F   47   53341.786595  18.787367    Y  \n",
       "4   -0.000185  4161.822987     Y       M   46   75276.185086  47.336477    Y  \n",
       "\n",
       "[5 rows x 23 columns]"
      ]
     },
     "execution_count": 4,
     "metadata": {},
     "output_type": "execute_result"
    }
   ],
   "source": [
    "df.head()"
   ]
  },
  {
   "cell_type": "markdown",
   "metadata": {},
   "source": [
    "construct a separate dataframe for the total record generation"
   ]
  },
  {
   "cell_type": "code",
   "execution_count": 5,
   "metadata": {},
   "outputs": [],
   "source": [
    "df1=df.copy()"
   ]
  },
  {
   "cell_type": "markdown",
   "metadata": {},
   "source": [
    "construct the dummy variable for education "
   ]
  },
  {
   "cell_type": "code",
   "execution_count": 7,
   "metadata": {},
   "outputs": [],
   "source": [
    "df1=df1.join(pd.get_dummies(df['education'],prefix='ed'))"
   ]
  },
  {
   "cell_type": "code",
   "execution_count": 8,
   "metadata": {},
   "outputs": [],
   "source": [
    "del df1['education']"
   ]
  },
  {
   "cell_type": "markdown",
   "metadata": {},
   "source": [
    "convert fund risk score to ordinal scale"
   ]
  },
  {
   "cell_type": "code",
   "execution_count": 9,
   "metadata": {},
   "outputs": [
    {
     "data": {
      "text/plain": [
       "array(['M', 'L', 'H'], dtype=object)"
      ]
     },
     "execution_count": 9,
     "metadata": {},
     "output_type": "execute_result"
    }
   ],
   "source": [
    "pd.unique(df1.FundRiskScore)"
   ]
  },
  {
   "cell_type": "code",
   "execution_count": 10,
   "metadata": {},
   "outputs": [],
   "source": [
    "def convfrscore(x):\n",
    "    if x=='L':\n",
    "        return 1\n",
    "    if x=='M':\n",
    "        return 2\n",
    "    if x=='H':\n",
    "        return 3"
   ]
  },
  {
   "cell_type": "code",
   "execution_count": 12,
   "metadata": {},
   "outputs": [],
   "source": [
    "df1['FRC']=df1.FundRiskScore.apply(convfrscore)"
   ]
  },
  {
   "cell_type": "markdown",
   "metadata": {},
   "source": [
    "convert gender to numerical type"
   ]
  },
  {
   "cell_type": "code",
   "execution_count": 13,
   "metadata": {},
   "outputs": [],
   "source": [
    "def gencovert(x):\n",
    "    if x=='M':\n",
    "        return 1\n",
    "    if x==\"F\":\n",
    "        return 0"
   ]
  },
  {
   "cell_type": "code",
   "execution_count": 14,
   "metadata": {},
   "outputs": [],
   "source": [
    "df1.Gender=df1.Gender.apply(gencovert)"
   ]
  },
  {
   "cell_type": "markdown",
   "metadata": {},
   "source": [
    "convert Open and Sub to numerical type"
   ]
  },
  {
   "cell_type": "code",
   "execution_count": 15,
   "metadata": {},
   "outputs": [],
   "source": [
    "def yesnoconvert(x):\n",
    "    if x==\"Y\":\n",
    "        return 1\n",
    "    if x=='N':\n",
    "        return 0"
   ]
  },
  {
   "cell_type": "code",
   "execution_count": 16,
   "metadata": {},
   "outputs": [],
   "source": [
    "df1.Open=df1.Open.apply(yesnoconvert)"
   ]
  },
  {
   "cell_type": "code",
   "execution_count": 21,
   "metadata": {},
   "outputs": [],
   "source": [
    "df1['sub']=df1['sub'].apply(yesnoconvert)"
   ]
  },
  {
   "cell_type": "markdown",
   "metadata": {},
   "source": [
    "only retain needed columns for ML models"
   ]
  },
  {
   "cell_type": "code",
   "execution_count": 45,
   "metadata": {},
   "outputs": [
    {
     "data": {
      "text/plain": [
       "Index(['Unnamed: 0', 'trd_date', 'fund_id', 'investor_id', 'intermediaryid',\n",
       "       'riskscore', 'SCRate', 'TrailerRate', 'FundRiskScore', 'FundName',\n",
       "       'Price', 'Vol', 'return-N6M', 'return-HYG', 'return-IVV', 'AUM', 'Open',\n",
       "       'Gender', 'age', 'income', 'counts', 'sub', 'ed_Deg or abv',\n",
       "       'ed_H.Sch/Dip.', 'ed_Sec. or below', 'FRC'],\n",
       "      dtype='object')"
      ]
     },
     "execution_count": 45,
     "metadata": {},
     "output_type": "execute_result"
    }
   ],
   "source": [
    "df1.columns"
   ]
  },
  {
   "cell_type": "code",
   "execution_count": 46,
   "metadata": {},
   "outputs": [],
   "source": [
    "df2=df1.iloc[:,[5,6,7,10,11,12,13,14,15,16,17,18,19,20,21,22,23,25]]"
   ]
  },
  {
   "cell_type": "code",
   "execution_count": 47,
   "metadata": {},
   "outputs": [
    {
     "data": {
      "text/plain": [
       "Index(['riskscore', 'SCRate', 'TrailerRate', 'Price', 'Vol', 'return-N6M',\n",
       "       'return-HYG', 'return-IVV', 'AUM', 'Open', 'Gender', 'age', 'income',\n",
       "       'counts', 'sub', 'ed_Deg or abv', 'ed_H.Sch/Dip.', 'FRC'],\n",
       "      dtype='object')"
      ]
     },
     "execution_count": 47,
     "metadata": {},
     "output_type": "execute_result"
    }
   ],
   "source": [
    "df2.columns"
   ]
  },
  {
   "cell_type": "code",
   "execution_count": 48,
   "metadata": {},
   "outputs": [],
   "source": [
    "df2.to_csv('MLTotal.csv')"
   ]
  },
  {
   "cell_type": "markdown",
   "metadata": {},
   "source": [
    "7-day record generation"
   ]
  },
  {
   "cell_type": "code",
   "execution_count": 74,
   "metadata": {},
   "outputs": [],
   "source": [
    "df1.index=pd.to_datetime(df1.trd_date)"
   ]
  },
  {
   "cell_type": "markdown",
   "metadata": {},
   "source": [
    "Filtering the trading records from 2020-03-12 to 2020-03-20"
   ]
  },
  {
   "cell_type": "code",
   "execution_count": 75,
   "metadata": {},
   "outputs": [],
   "source": [
    "df3=df1.loc['2020-03-12':'2020-03-20']"
   ]
  },
  {
   "cell_type": "code",
   "execution_count": 76,
   "metadata": {},
   "outputs": [],
   "source": [
    "df3.index=range(len(df3))"
   ]
  },
  {
   "cell_type": "code",
   "execution_count": 80,
   "metadata": {},
   "outputs": [],
   "source": [
    "df3=df3.iloc[:,[5,6,7,10,11,12,13,14,15,16,17,18,19,20,21,22,23,25]]"
   ]
  },
  {
   "cell_type": "code",
   "execution_count": 81,
   "metadata": {},
   "outputs": [],
   "source": [
    "df3.to_csv('7daysML.csv')"
   ]
  },
  {
   "cell_type": "code",
   "execution_count": null,
   "metadata": {},
   "outputs": [],
   "source": []
  },
  {
   "cell_type": "code",
   "execution_count": null,
   "metadata": {},
   "outputs": [],
   "source": []
  },
  {
   "cell_type": "code",
   "execution_count": null,
   "metadata": {},
   "outputs": [],
   "source": []
  },
  {
   "cell_type": "code",
   "execution_count": null,
   "metadata": {},
   "outputs": [],
   "source": []
  },
  {
   "cell_type": "code",
   "execution_count": null,
   "metadata": {},
   "outputs": [],
   "source": []
  },
  {
   "cell_type": "code",
   "execution_count": null,
   "metadata": {},
   "outputs": [],
   "source": []
  },
  {
   "cell_type": "code",
   "execution_count": null,
   "metadata": {},
   "outputs": [],
   "source": []
  },
  {
   "cell_type": "code",
   "execution_count": null,
   "metadata": {},
   "outputs": [],
   "source": []
  },
  {
   "cell_type": "code",
   "execution_count": null,
   "metadata": {},
   "outputs": [],
   "source": []
  },
  {
   "cell_type": "code",
   "execution_count": null,
   "metadata": {},
   "outputs": [],
   "source": []
  },
  {
   "cell_type": "code",
   "execution_count": null,
   "metadata": {},
   "outputs": [],
   "source": []
  },
  {
   "cell_type": "code",
   "execution_count": null,
   "metadata": {},
   "outputs": [],
   "source": []
  },
  {
   "cell_type": "code",
   "execution_count": null,
   "metadata": {},
   "outputs": [],
   "source": []
  },
  {
   "cell_type": "code",
   "execution_count": null,
   "metadata": {},
   "outputs": [],
   "source": []
  },
  {
   "cell_type": "code",
   "execution_count": null,
   "metadata": {},
   "outputs": [],
   "source": []
  },
  {
   "cell_type": "code",
   "execution_count": null,
   "metadata": {},
   "outputs": [],
   "source": []
  },
  {
   "cell_type": "code",
   "execution_count": null,
   "metadata": {},
   "outputs": [],
   "source": []
  },
  {
   "cell_type": "code",
   "execution_count": null,
   "metadata": {},
   "outputs": [],
   "source": []
  },
  {
   "cell_type": "code",
   "execution_count": null,
   "metadata": {},
   "outputs": [],
   "source": []
  },
  {
   "cell_type": "code",
   "execution_count": null,
   "metadata": {},
   "outputs": [],
   "source": []
  }
 ],
 "metadata": {
  "kernelspec": {
   "display_name": "Python 3.8.3 64-bit",
   "language": "python",
   "name": "python38364bit719a10165d2e45edb91e9b20e26e67b0"
  },
  "language_info": {
   "codemirror_mode": {
    "name": "ipython",
    "version": 3
   },
   "file_extension": ".py",
   "mimetype": "text/x-python",
   "name": "python",
   "nbconvert_exporter": "python",
   "pygments_lexer": "ipython3",
   "version": "3.8.3"
  }
 },
 "nbformat": 4,
 "nbformat_minor": 4
}
